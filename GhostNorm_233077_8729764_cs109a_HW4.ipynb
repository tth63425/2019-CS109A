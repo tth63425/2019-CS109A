{
 "cells": [
  {
   "cell_type": "markdown",
   "metadata": {},
   "source": [
    "\n",
    "# <img style=\"float: left; padding-right: 10px; width: 45px\" src=\"https://raw.githubusercontent.com/Harvard-IACS/2018-CS109A/master/content/styles/iacs.png\"> CS109A Introduction to Data Science\n",
    "\n",
    "## Homework 4: Logistic Regression\n",
    "\n",
    "**Harvard University**<br/>\n",
    "**Fall 2019**<br/>\n",
    "**Instructors**: Pavlos Protopapas, Kevin Rader, and Chris Tanner\n",
    "\n",
    "<hr style=\"height:2pt\">\n",
    "\n"
   ]
  },
  {
   "cell_type": "code",
   "execution_count": 961,
   "metadata": {},
   "outputs": [
    {
     "data": {
      "text/html": [
       "<style>\n",
       "blockquote { background: #AEDE94; }\n",
       "h1 { \n",
       "    padding-top: 25px;\n",
       "    padding-bottom: 25px;\n",
       "    text-align: left; \n",
       "    padding-left: 10px;\n",
       "    background-color: #DDDDDD; \n",
       "    color: black;\n",
       "}\n",
       "h2 { \n",
       "    padding-top: 10px;\n",
       "    padding-bottom: 10px;\n",
       "    text-align: left; \n",
       "    padding-left: 5px;\n",
       "    background-color: #EEEEEE; \n",
       "    color: black;\n",
       "}\n",
       "\n",
       "div.exercise {\n",
       "\tbackground-color: #ffcccc;\n",
       "\tborder-color: #E9967A; \t\n",
       "\tborder-left: 5px solid #800080; \n",
       "\tpadding: 0.5em;\n",
       "}\n",
       "\n",
       "span.sub-q {\n",
       "\tfont-weight: bold;\n",
       "}\n",
       "div.theme {\n",
       "\tbackground-color: #DDDDDD;\n",
       "\tborder-color: #E9967A; \t\n",
       "\tborder-left: 5px solid #800080; \n",
       "\tpadding: 0.5em;\n",
       "\tfont-size: 18pt;\n",
       "}\n",
       "div.gc { \n",
       "\tbackground-color: #AEDE94;\n",
       "\tborder-color: #E9967A; \t \n",
       "\tborder-left: 5px solid #800080; \n",
       "\tpadding: 0.5em;\n",
       "\tfont-size: 12pt;\n",
       "}\n",
       "p.q1 { \n",
       "    padding-top: 5px;\n",
       "    padding-bottom: 5px;\n",
       "    text-align: left; \n",
       "    padding-left: 5px;\n",
       "    background-color: #EEEEEE; \n",
       "    color: black;\n",
       "}\n",
       "header {\n",
       "   padding-top: 35px;\n",
       "    padding-bottom: 35px;\n",
       "    text-align: left; \n",
       "    padding-left: 10px;\n",
       "    background-color: #DDDDDD; \n",
       "    color: black;\n",
       "}\n",
       "</style>\n",
       "\n"
      ],
      "text/plain": [
       "<IPython.core.display.HTML object>"
      ]
     },
     "execution_count": 961,
     "metadata": {},
     "output_type": "execute_result"
    }
   ],
   "source": [
    "#RUN THIS CELL \n",
    "import requests\n",
    "from IPython.core.display import HTML\n",
    "styles = requests.get(\"https://raw.githubusercontent.com/Harvard-IACS/2018-CS109A/master/content/styles/cs109.css\").text\n",
    "HTML(styles)"
   ]
  },
  {
   "cell_type": "markdown",
   "metadata": {},
   "source": [
    "### INSTRUCTIONS\n",
    "\n",
    "- **This is an individual homework. No group collaboration.**\n",
    "- To submit your assignment follow the instructions given in Canvas.\n",
    "- Restart the kernel and run the whole notebook again before you submit. \n",
    "- As much as possible, try and stick to the hints and functions we import at the top of the homework, as those are the ideas and tools the class supports and is aiming to teach. And if a problem specifies a particular library you're required to use that library, and possibly others from the import list.\n",
    "- Please use .head() when viewing data. Do not submit a notebook that is excessively long because output was not suppressed or otherwise limited. "
   ]
  },
  {
   "cell_type": "code",
   "execution_count": 962,
   "metadata": {},
   "outputs": [],
   "source": [
    "import numpy as np\n",
    "import pandas as pd\n",
    "\n",
    "from sklearn.linear_model import LinearRegression\n",
    "from sklearn.linear_model import LogisticRegression\n",
    "from sklearn.linear_model import LogisticRegressionCV\n",
    "from sklearn.linear_model import LassoCV\n",
    "\n",
    "from sklearn.neighbors import KNeighborsClassifier\n",
    "from sklearn.model_selection import cross_val_score\n",
    "from sklearn.metrics import accuracy_score\n",
    "from sklearn.model_selection import KFold\n",
    "from sklearn.preprocessing import MinMaxScaler\n",
    "from sklearn.model_selection import train_test_split\n",
    "\n",
    "import matplotlib\n",
    "import matplotlib.pyplot as plt\n",
    "%matplotlib inline\n",
    "\n",
    "import zipfile\n",
    "\n",
    "\n",
    "import seaborn as sns\n",
    "sns.set()\n"
   ]
  },
  {
   "cell_type": "markdown",
   "metadata": {},
   "source": [
    "<div class='theme'> Cancer Classification from Gene Expressions </div>\n",
    "\n",
    "In this problem, we will build a classification model to distinguish between two related classes of cancer, acute lymphoblastic leukemia (ALL) and acute myeloid leukemia (AML), using gene expression measurements. The data set is provided in the file `data/dataset_hw4.csv`. Each row in this file corresponds to a tumor tissue sample from a patient with one of the two forms of Leukemia. The first column contains the cancer type, with **0 indicating the ALL** class and **1 indicating the AML** class. Columns 2-7130 contain expression levels of 7129 genes recorded from each tissue sample. \n",
    "\n",
    "In the following questions, we will use linear and logistic regression to build classification models for this data set. \n"
   ]
  },
  {
   "cell_type": "markdown",
   "metadata": {},
   "source": [
    "<div class='exercise'><b> Question 1 [20 pts]: Data Exploration </b></div>\n",
    "\n",
    "First step is to  split  the observations into an approximate 80-20 train-test split.  Below is some code to do this for you (we want to make sure everyone has the same splits). Print dataset shape before splitting and after splitting. `Cancer_type` is our target column.\n",
    "\n",
    "\n",
    "**1.1** Take a peek at your training set (show a glimpse of what you did): you should notice the severe differences in the measurements from one gene to the next (some are negative, some hover around zero, and some are well into the thousands).  To account for these differences in scale and variability, normalize each predictor to vary between 0 and 1.\n",
    "\n",
    "\n",
    "**1.2** The training set contains more predictors than observations. What problem(s) can this lead to in fitting a classification model to such a data set? Explain in 3 or fewer sentences.\n",
    "\n",
    "\n",
    "**1.3** Identify and report which 10 genes individually discriminate between the two cancer classes the best (consider every gene in the data set).  Note: it wil lbe useful to save this list for future parts.\n",
    "\n",
    "Plot two histograms ofyour best predictor - one using training and another for the testing dataset. Each histogram should clearly distinguish two different `Cancer_type` classes.\n",
    "\n",
    "Hint: You may use t-testing to make this determination: #https://en.wikipedia.org/wiki/Welch%27s_t-test.\n",
    "\n",
    "\n",
    "**1.4** Using your top gene from the previous part (call it  `best_predictor`), create a classification model by manually eye-balling a value for this gene that would discriminate the two classes the best. Justify your choice in 1-2 sentences. Report the accuracy of this hand-chosen model on the test set.\n",
    "\n",
    "<hr> <hr>"
   ]
  },
  {
   "cell_type": "markdown",
   "metadata": {},
   "source": [
    "<hr>\n",
    "### Solutions"
   ]
  },
  {
   "cell_type": "markdown",
   "metadata": {},
   "source": [
    "**First step is to split the observations into an approximate 80-20 train-test split. Below is some code to do this for you (we want to make sure everyone has the same splits). Print dataset shape before splitting and after splitting. `Cancer_type` is our target column.**"
   ]
  },
  {
   "cell_type": "code",
   "execution_count": 963,
   "metadata": {},
   "outputs": [],
   "source": [
    "np.random.seed(10)\n",
    "df = pd.read_csv('data/hw4_enhance.csv', index_col=0)\n",
    "\n",
    "\n",
    "X_train, X_test, y_train, y_test =train_test_split(df.loc[:, df.columns != 'Cancer_type'], \n",
    "                                                         df.Cancer_type, test_size=0.2, \n",
    "                                                         random_state = 109, \n",
    "                                                         stratify = df.Cancer_type)"
   ]
  },
  {
   "cell_type": "code",
   "execution_count": 964,
   "metadata": {},
   "outputs": [
    {
     "name": "stdout",
     "output_type": "stream",
     "text": [
      "(752, 7130)\n",
      "((601, 7129), (151, 7129), (601L,), (151L,))\n",
      "0.0    0.511968\n",
      "1.0    0.488032\n",
      "Name: Cancer_type, dtype: float64\n"
     ]
    }
   ],
   "source": [
    "\n",
    "print(df.shape)\n",
    "\n",
    "print(X_train.shape, X_test.shape, y_train.shape, y_test.shape)\n",
    "print(df.Cancer_type.value_counts(normalize=True))\n"
   ]
  },
  {
   "cell_type": "markdown",
   "metadata": {},
   "source": [
    "**1.1 Take a peek at your training set (show a glimpse of what you did): you should notice the severe differences in the measurements from one gene to the next (some are negative, some hover around zero, and some are well into the thousands).  To account for these differences in scale and variability, normalize each predictor to vary between 0 and 1.**\n"
   ]
  },
  {
   "cell_type": "code",
   "execution_count": 965,
   "metadata": {},
   "outputs": [
    {
     "data": {
      "text/html": [
       "<div>\n",
       "<style scoped>\n",
       "    .dataframe tbody tr th:only-of-type {\n",
       "        vertical-align: middle;\n",
       "    }\n",
       "\n",
       "    .dataframe tbody tr th {\n",
       "        vertical-align: top;\n",
       "    }\n",
       "\n",
       "    .dataframe thead th {\n",
       "        text-align: right;\n",
       "    }\n",
       "</style>\n",
       "<table border=\"1\" class=\"dataframe\">\n",
       "  <thead>\n",
       "    <tr style=\"text-align: right;\">\n",
       "      <th></th>\n",
       "      <th>AFFX-BioB-5_at</th>\n",
       "      <th>AFFX-BioB-M_at</th>\n",
       "      <th>AFFX-BioB-3_at</th>\n",
       "      <th>AFFX-BioC-5_at</th>\n",
       "      <th>AFFX-BioC-3_at</th>\n",
       "      <th>AFFX-BioDn-5_at</th>\n",
       "      <th>AFFX-BioDn-3_at</th>\n",
       "      <th>AFFX-CreX-5_at</th>\n",
       "      <th>AFFX-CreX-3_at</th>\n",
       "      <th>AFFX-BioB-5_st</th>\n",
       "      <th>...</th>\n",
       "      <th>U48730_at</th>\n",
       "      <th>U58516_at</th>\n",
       "      <th>U73738_at</th>\n",
       "      <th>X06956_at</th>\n",
       "      <th>X16699_at</th>\n",
       "      <th>X83863_at</th>\n",
       "      <th>Z17240_at</th>\n",
       "      <th>L49218_f_at</th>\n",
       "      <th>M71243_f_at</th>\n",
       "      <th>Z78285_f_at</th>\n",
       "    </tr>\n",
       "  </thead>\n",
       "  <tbody>\n",
       "    <tr>\n",
       "      <th>486</th>\n",
       "      <td>-83.669345</td>\n",
       "      <td>-129.202197</td>\n",
       "      <td>91.188553</td>\n",
       "      <td>-132.634919</td>\n",
       "      <td>-416.659258</td>\n",
       "      <td>-566.248620</td>\n",
       "      <td>-549.255222</td>\n",
       "      <td>-208.415176</td>\n",
       "      <td>213.331881</td>\n",
       "      <td>-135.518811</td>\n",
       "      <td>...</td>\n",
       "      <td>111.849800</td>\n",
       "      <td>371.083898</td>\n",
       "      <td>252.006568</td>\n",
       "      <td>963.153393</td>\n",
       "      <td>9.955941</td>\n",
       "      <td>142.181944</td>\n",
       "      <td>442.730023</td>\n",
       "      <td>42.848269</td>\n",
       "      <td>512.106908</td>\n",
       "      <td>4.677488</td>\n",
       "    </tr>\n",
       "    <tr>\n",
       "      <th>604</th>\n",
       "      <td>-65.718571</td>\n",
       "      <td>-302.842019</td>\n",
       "      <td>-297.819728</td>\n",
       "      <td>-177.485917</td>\n",
       "      <td>-52.709137</td>\n",
       "      <td>-218.295750</td>\n",
       "      <td>195.983474</td>\n",
       "      <td>-268.235930</td>\n",
       "      <td>-328.630912</td>\n",
       "      <td>240.058672</td>\n",
       "      <td>...</td>\n",
       "      <td>252.867110</td>\n",
       "      <td>110.033722</td>\n",
       "      <td>203.197907</td>\n",
       "      <td>101.612259</td>\n",
       "      <td>-138.398658</td>\n",
       "      <td>245.767616</td>\n",
       "      <td>247.519122</td>\n",
       "      <td>-15.430358</td>\n",
       "      <td>-398.165984</td>\n",
       "      <td>-61.694246</td>\n",
       "    </tr>\n",
       "    <tr>\n",
       "      <th>341</th>\n",
       "      <td>-264.191248</td>\n",
       "      <td>-162.255274</td>\n",
       "      <td>127.997172</td>\n",
       "      <td>173.771779</td>\n",
       "      <td>-185.191211</td>\n",
       "      <td>40.011778</td>\n",
       "      <td>-1562.983106</td>\n",
       "      <td>-85.344926</td>\n",
       "      <td>-119.622143</td>\n",
       "      <td>219.619110</td>\n",
       "      <td>...</td>\n",
       "      <td>20.797496</td>\n",
       "      <td>-184.115075</td>\n",
       "      <td>-227.872398</td>\n",
       "      <td>140.876523</td>\n",
       "      <td>42.543763</td>\n",
       "      <td>28.594281</td>\n",
       "      <td>204.479474</td>\n",
       "      <td>9.831559</td>\n",
       "      <td>21.718266</td>\n",
       "      <td>19.522122</td>\n",
       "    </tr>\n",
       "    <tr>\n",
       "      <th>117</th>\n",
       "      <td>-92.558574</td>\n",
       "      <td>-109.788332</td>\n",
       "      <td>379.542547</td>\n",
       "      <td>391.641129</td>\n",
       "      <td>-184.507364</td>\n",
       "      <td>-577.178389</td>\n",
       "      <td>-293.421369</td>\n",
       "      <td>-372.534572</td>\n",
       "      <td>190.551199</td>\n",
       "      <td>-487.331438</td>\n",
       "      <td>...</td>\n",
       "      <td>180.678776</td>\n",
       "      <td>577.889184</td>\n",
       "      <td>-50.443125</td>\n",
       "      <td>417.586154</td>\n",
       "      <td>-11.190519</td>\n",
       "      <td>1478.997020</td>\n",
       "      <td>15.923333</td>\n",
       "      <td>112.986515</td>\n",
       "      <td>-107.706335</td>\n",
       "      <td>-25.673203</td>\n",
       "    </tr>\n",
       "    <tr>\n",
       "      <th>516</th>\n",
       "      <td>-143.099813</td>\n",
       "      <td>140.202023</td>\n",
       "      <td>-147.163850</td>\n",
       "      <td>222.339115</td>\n",
       "      <td>-231.007621</td>\n",
       "      <td>-753.616356</td>\n",
       "      <td>274.500343</td>\n",
       "      <td>-217.513332</td>\n",
       "      <td>-107.135509</td>\n",
       "      <td>-62.470938</td>\n",
       "      <td>...</td>\n",
       "      <td>139.821329</td>\n",
       "      <td>909.588696</td>\n",
       "      <td>43.531613</td>\n",
       "      <td>718.462679</td>\n",
       "      <td>-58.238405</td>\n",
       "      <td>232.494165</td>\n",
       "      <td>754.787059</td>\n",
       "      <td>-58.160474</td>\n",
       "      <td>1808.764690</td>\n",
       "      <td>-20.782346</td>\n",
       "    </tr>\n",
       "  </tbody>\n",
       "</table>\n",
       "<p>5 rows × 7129 columns</p>\n",
       "</div>"
      ],
      "text/plain": [
       "     AFFX-BioB-5_at  AFFX-BioB-M_at  AFFX-BioB-3_at  AFFX-BioC-5_at  \\\n",
       "486      -83.669345     -129.202197       91.188553     -132.634919   \n",
       "604      -65.718571     -302.842019     -297.819728     -177.485917   \n",
       "341     -264.191248     -162.255274      127.997172      173.771779   \n",
       "117      -92.558574     -109.788332      379.542547      391.641129   \n",
       "516     -143.099813      140.202023     -147.163850      222.339115   \n",
       "\n",
       "     AFFX-BioC-3_at  AFFX-BioDn-5_at  AFFX-BioDn-3_at  AFFX-CreX-5_at  \\\n",
       "486     -416.659258      -566.248620      -549.255222     -208.415176   \n",
       "604      -52.709137      -218.295750       195.983474     -268.235930   \n",
       "341     -185.191211        40.011778     -1562.983106      -85.344926   \n",
       "117     -184.507364      -577.178389      -293.421369     -372.534572   \n",
       "516     -231.007621      -753.616356       274.500343     -217.513332   \n",
       "\n",
       "     AFFX-CreX-3_at  AFFX-BioB-5_st  ...   U48730_at   U58516_at   U73738_at  \\\n",
       "486      213.331881     -135.518811  ...  111.849800  371.083898  252.006568   \n",
       "604     -328.630912      240.058672  ...  252.867110  110.033722  203.197907   \n",
       "341     -119.622143      219.619110  ...   20.797496 -184.115075 -227.872398   \n",
       "117      190.551199     -487.331438  ...  180.678776  577.889184  -50.443125   \n",
       "516     -107.135509      -62.470938  ...  139.821329  909.588696   43.531613   \n",
       "\n",
       "      X06956_at   X16699_at    X83863_at   Z17240_at  L49218_f_at  \\\n",
       "486  963.153393    9.955941   142.181944  442.730023    42.848269   \n",
       "604  101.612259 -138.398658   245.767616  247.519122   -15.430358   \n",
       "341  140.876523   42.543763    28.594281  204.479474     9.831559   \n",
       "117  417.586154  -11.190519  1478.997020   15.923333   112.986515   \n",
       "516  718.462679  -58.238405   232.494165  754.787059   -58.160474   \n",
       "\n",
       "     M71243_f_at  Z78285_f_at  \n",
       "486   512.106908     4.677488  \n",
       "604  -398.165984   -61.694246  \n",
       "341    21.718266    19.522122  \n",
       "117  -107.706335   -25.673203  \n",
       "516  1808.764690   -20.782346  \n",
       "\n",
       "[5 rows x 7129 columns]"
      ]
     },
     "metadata": {},
     "output_type": "display_data"
    }
   ],
   "source": [
    "#your code here\n",
    "display(X_train.head())"
   ]
  },
  {
   "cell_type": "code",
   "execution_count": 966,
   "metadata": {},
   "outputs": [
    {
     "data": {
      "text/html": [
       "<div>\n",
       "<style scoped>\n",
       "    .dataframe tbody tr th:only-of-type {\n",
       "        vertical-align: middle;\n",
       "    }\n",
       "\n",
       "    .dataframe tbody tr th {\n",
       "        vertical-align: top;\n",
       "    }\n",
       "\n",
       "    .dataframe thead th {\n",
       "        text-align: right;\n",
       "    }\n",
       "</style>\n",
       "<table border=\"1\" class=\"dataframe\">\n",
       "  <thead>\n",
       "    <tr style=\"text-align: right;\">\n",
       "      <th></th>\n",
       "      <th>AFFX-BioB-5_at</th>\n",
       "      <th>AFFX-BioB-M_at</th>\n",
       "      <th>AFFX-BioB-3_at</th>\n",
       "      <th>AFFX-BioC-5_at</th>\n",
       "      <th>AFFX-BioC-3_at</th>\n",
       "      <th>AFFX-BioDn-5_at</th>\n",
       "      <th>AFFX-BioDn-3_at</th>\n",
       "      <th>AFFX-CreX-5_at</th>\n",
       "      <th>AFFX-CreX-3_at</th>\n",
       "      <th>AFFX-BioB-5_st</th>\n",
       "      <th>...</th>\n",
       "      <th>U48730_at</th>\n",
       "      <th>U58516_at</th>\n",
       "      <th>U73738_at</th>\n",
       "      <th>X06956_at</th>\n",
       "      <th>X16699_at</th>\n",
       "      <th>X83863_at</th>\n",
       "      <th>Z17240_at</th>\n",
       "      <th>L49218_f_at</th>\n",
       "      <th>M71243_f_at</th>\n",
       "      <th>Z78285_f_at</th>\n",
       "    </tr>\n",
       "  </thead>\n",
       "  <tbody>\n",
       "    <tr>\n",
       "      <th>486</th>\n",
       "      <td>0.574689</td>\n",
       "      <td>0.652904</td>\n",
       "      <td>0.528552</td>\n",
       "      <td>0.202384</td>\n",
       "      <td>0.504132</td>\n",
       "      <td>0.309107</td>\n",
       "      <td>0.439480</td>\n",
       "      <td>0.524446</td>\n",
       "      <td>0.723161</td>\n",
       "      <td>0.411162</td>\n",
       "      <td>...</td>\n",
       "      <td>0.516278</td>\n",
       "      <td>0.391074</td>\n",
       "      <td>0.752595</td>\n",
       "      <td>0.484137</td>\n",
       "      <td>0.683508</td>\n",
       "      <td>0.389115</td>\n",
       "      <td>0.413169</td>\n",
       "      <td>0.562775</td>\n",
       "      <td>0.538180</td>\n",
       "      <td>0.524258</td>\n",
       "    </tr>\n",
       "    <tr>\n",
       "      <th>604</th>\n",
       "      <td>0.587407</td>\n",
       "      <td>0.535608</td>\n",
       "      <td>0.249427</td>\n",
       "      <td>0.171417</td>\n",
       "      <td>0.752874</td>\n",
       "      <td>0.513878</td>\n",
       "      <td>0.655342</td>\n",
       "      <td>0.464181</td>\n",
       "      <td>0.324602</td>\n",
       "      <td>0.559483</td>\n",
       "      <td>...</td>\n",
       "      <td>0.635019</td>\n",
       "      <td>0.317177</td>\n",
       "      <td>0.700050</td>\n",
       "      <td>0.336964</td>\n",
       "      <td>0.454571</td>\n",
       "      <td>0.406687</td>\n",
       "      <td>0.339430</td>\n",
       "      <td>0.452814</td>\n",
       "      <td>0.388218</td>\n",
       "      <td>0.380795</td>\n",
       "    </tr>\n",
       "    <tr>\n",
       "      <th>341</th>\n",
       "      <td>0.446787</td>\n",
       "      <td>0.630576</td>\n",
       "      <td>0.554963</td>\n",
       "      <td>0.413946</td>\n",
       "      <td>0.662329</td>\n",
       "      <td>0.665892</td>\n",
       "      <td>0.145850</td>\n",
       "      <td>0.648430</td>\n",
       "      <td>0.478307</td>\n",
       "      <td>0.551411</td>\n",
       "      <td>...</td>\n",
       "      <td>0.439609</td>\n",
       "      <td>0.233910</td>\n",
       "      <td>0.235984</td>\n",
       "      <td>0.343672</td>\n",
       "      <td>0.733797</td>\n",
       "      <td>0.369846</td>\n",
       "      <td>0.323172</td>\n",
       "      <td>0.500478</td>\n",
       "      <td>0.457391</td>\n",
       "      <td>0.556345</td>\n",
       "    </tr>\n",
       "    <tr>\n",
       "      <th>117</th>\n",
       "      <td>0.568391</td>\n",
       "      <td>0.666018</td>\n",
       "      <td>0.735454</td>\n",
       "      <td>0.564376</td>\n",
       "      <td>0.662796</td>\n",
       "      <td>0.302675</td>\n",
       "      <td>0.513584</td>\n",
       "      <td>0.359108</td>\n",
       "      <td>0.706408</td>\n",
       "      <td>0.272227</td>\n",
       "      <td>...</td>\n",
       "      <td>0.574234</td>\n",
       "      <td>0.449615</td>\n",
       "      <td>0.426995</td>\n",
       "      <td>0.390941</td>\n",
       "      <td>0.650875</td>\n",
       "      <td>0.615891</td>\n",
       "      <td>0.251946</td>\n",
       "      <td>0.695112</td>\n",
       "      <td>0.436069</td>\n",
       "      <td>0.458655</td>\n",
       "    </tr>\n",
       "    <tr>\n",
       "      <th>516</th>\n",
       "      <td>0.532581</td>\n",
       "      <td>0.834889</td>\n",
       "      <td>0.357527</td>\n",
       "      <td>0.447480</td>\n",
       "      <td>0.631015</td>\n",
       "      <td>0.198841</td>\n",
       "      <td>0.678084</td>\n",
       "      <td>0.515280</td>\n",
       "      <td>0.487490</td>\n",
       "      <td>0.440010</td>\n",
       "      <td>...</td>\n",
       "      <td>0.539831</td>\n",
       "      <td>0.543511</td>\n",
       "      <td>0.528163</td>\n",
       "      <td>0.442338</td>\n",
       "      <td>0.578272</td>\n",
       "      <td>0.404435</td>\n",
       "      <td>0.531047</td>\n",
       "      <td>0.372191</td>\n",
       "      <td>0.751796</td>\n",
       "      <td>0.469227</td>\n",
       "    </tr>\n",
       "  </tbody>\n",
       "</table>\n",
       "<p>5 rows × 7129 columns</p>\n",
       "</div>"
      ],
      "text/plain": [
       "     AFFX-BioB-5_at  AFFX-BioB-M_at  AFFX-BioB-3_at  AFFX-BioC-5_at  \\\n",
       "486        0.574689        0.652904        0.528552        0.202384   \n",
       "604        0.587407        0.535608        0.249427        0.171417   \n",
       "341        0.446787        0.630576        0.554963        0.413946   \n",
       "117        0.568391        0.666018        0.735454        0.564376   \n",
       "516        0.532581        0.834889        0.357527        0.447480   \n",
       "\n",
       "     AFFX-BioC-3_at  AFFX-BioDn-5_at  AFFX-BioDn-3_at  AFFX-CreX-5_at  \\\n",
       "486        0.504132         0.309107         0.439480        0.524446   \n",
       "604        0.752874         0.513878         0.655342        0.464181   \n",
       "341        0.662329         0.665892         0.145850        0.648430   \n",
       "117        0.662796         0.302675         0.513584        0.359108   \n",
       "516        0.631015         0.198841         0.678084        0.515280   \n",
       "\n",
       "     AFFX-CreX-3_at  AFFX-BioB-5_st  ...  U48730_at  U58516_at  U73738_at  \\\n",
       "486        0.723161        0.411162  ...   0.516278   0.391074   0.752595   \n",
       "604        0.324602        0.559483  ...   0.635019   0.317177   0.700050   \n",
       "341        0.478307        0.551411  ...   0.439609   0.233910   0.235984   \n",
       "117        0.706408        0.272227  ...   0.574234   0.449615   0.426995   \n",
       "516        0.487490        0.440010  ...   0.539831   0.543511   0.528163   \n",
       "\n",
       "     X06956_at  X16699_at  X83863_at  Z17240_at  L49218_f_at  M71243_f_at  \\\n",
       "486   0.484137   0.683508   0.389115   0.413169     0.562775     0.538180   \n",
       "604   0.336964   0.454571   0.406687   0.339430     0.452814     0.388218   \n",
       "341   0.343672   0.733797   0.369846   0.323172     0.500478     0.457391   \n",
       "117   0.390941   0.650875   0.615891   0.251946     0.695112     0.436069   \n",
       "516   0.442338   0.578272   0.404435   0.531047     0.372191     0.751796   \n",
       "\n",
       "     Z78285_f_at  \n",
       "486     0.524258  \n",
       "604     0.380795  \n",
       "341     0.556345  \n",
       "117     0.458655  \n",
       "516     0.469227  \n",
       "\n",
       "[5 rows x 7129 columns]"
      ]
     },
     "execution_count": 966,
     "metadata": {},
     "output_type": "execute_result"
    }
   ],
   "source": [
    "#your code here\n",
    "scaler=MinMaxScaler().fit(X_train)  ##https://scikit-learn.org/stable/auto_examples/preprocessing/plot_all_scaling.html\n",
    "\n",
    "X_train_scaled=pd.DataFrame(scaler.transform(X_train),index=X_train.index,columns=X_train.columns)\n",
    "X_test_scaled=pd.DataFrame(scaler.transform(X_test),index=X_test.index,columns=X_test.columns)\n",
    "\n",
    "X_train_scaled.head()"
   ]
  },
  {
   "cell_type": "markdown",
   "metadata": {},
   "source": [
    "**1.2 The training set contains more predictors than observations. What problem(s) can this lead to in fitting a classification model to such a data set? Explain in 3 or fewer sentences.**"
   ]
  },
  {
   "cell_type": "markdown",
   "metadata": {},
   "source": [
    "- When a training set contains more predictors than observations we cannot use the Least Square Regression. Therefore, in such cases we need to use regularization methods and introduce penalty terms\n"
   ]
  },
  {
   "cell_type": "markdown",
   "metadata": {},
   "source": [
    "**1.3** **Identify and report which 10 genes individually discriminate between the two cancer classes the best (consider every gene in the data set).  Note: it wil lbe useful to save this list for future parts.**\n",
    "\n",
    "**Plot two histograms of your best predictor - one using training and another for the testing dataset. Each histogram should clearly distinguish two different `Cancer_type` classes.**\n",
    "\n",
    "**Hint: You may use t-testing to make this determination: #https://en.wikipedia.org/wiki/Welch%27s_t-test.**"
   ]
  },
  {
   "cell_type": "code",
   "execution_count": 967,
   "metadata": {},
   "outputs": [],
   "source": [
    "Cancer0 = df[df['Cancer_type']==0]\n",
    "Cancer1 = df[df['Cancer_type']==1]\n",
    "All_Genes = df.columns[1:]\n",
    "\n",
    "ttest_List = []\n",
    "\n",
    "for i in range(len(All_Genes)-1):\n",
    "    ind_gene = All_Genes[i]\n",
    "    mean_diff = Cancer0[ind_gene].mean() - Cancer1[ind_gene].mean()\n",
    "    C0_var = Cancer0[ind_gene].std()**2/Cancer0[ind_gene].count()\n",
    "    C1_var = Cancer1[ind_gene].std()**2/Cancer1[ind_gene].count()\n",
    "    denominator = np.sqrt(C0_var + C1_var)\n",
    "    ttest = mean_diff/denominator\n",
    "    \n",
    "    ttest_List.append(ttest)\n",
    "#ttest_List"
   ]
  },
  {
   "cell_type": "code",
   "execution_count": 968,
   "metadata": {},
   "outputs": [],
   "source": [
    "top10_gene_index = np.argsort(ttest_List)[-10:]\n",
    "top10_gene = [X_train.columns[i] for i in top10_gene_index]\n",
    "\n",
    "top_gene_index = np.argsort(ttest_List)[-1:]\n",
    "top_gene = X_train.columns[top_gene_index][0]"
   ]
  },
  {
   "cell_type": "code",
   "execution_count": 969,
   "metadata": {},
   "outputs": [],
   "source": [
    "#your code here\n",
    "#logist_train_model1 = LogisticRegression(C=100000).fit(X_train_scaled,y_train)\n",
    "#model1_abs_coef = np.abs(logist_train_model1.coef_)\n",
    "\n",
    "#top10_gene_index = np.argsort(model1_abs_coef)[0][-10:]\n",
    "#top10_gene = [X_train.columns[i] for i in top10_gene_index]\n",
    "\n",
    "#top_gene_index = np.argsort(model1_abs_coef)[0][-1:]\n",
    "#top_gene = X_train.columns[top_gene_index][0]"
   ]
  },
  {
   "cell_type": "code",
   "execution_count": 970,
   "metadata": {},
   "outputs": [
    {
     "name": "stdout",
     "output_type": "stream",
     "text": [
      "Top Gene Predictor: \tM31523_at\n",
      "\n",
      "Top 10 Gene Predictors: \n",
      "['U72936_s_at', 'M31211_s_at', 'X80230_at', 'U29175_at', 'X53742_at', 'J04615_at', 'X76648_at', 'J04029_s_at', 'Y08612_at', 'M31523_at']\n"
     ]
    }
   ],
   "source": [
    "#your code here\n",
    "print(\"Top Gene Predictor: \\t{}\\n\".format(top_gene))\n",
    "print(\"Top 10 Gene Predictors: \\n{}\".format(top10_gene));\n"
   ]
  },
  {
   "cell_type": "code",
   "execution_count": 971,
   "metadata": {},
   "outputs": [
    {
     "data": {
      "text/plain": [
       "<matplotlib.legend.Legend at 0x6d695940>"
      ]
     },
     "execution_count": 971,
     "metadata": {},
     "output_type": "execute_result"
    },
    {
     "data": {
      "image/png": "[encoded data removed]",
      "text/plain": [
       "<Figure size 1008x432 with 2 Axes>"
      ]
     },
     "metadata": {},
     "output_type": "display_data"
    }
   ],
   "source": [
    "#0 indicating the ALL class and 1 indicating the AML\n",
    "\n",
    "X_train_df = pd.DataFrame(list(zip(X_train[top_gene], y_train)),columns =[top_gene, 'Cancer_type']) \n",
    "TopGene_Cancer0_train = X_train_df[(X_train_df.Cancer_type == 0)][top_gene]\n",
    "TopGene_Cancer1_train = X_train_df[(X_train_df.Cancer_type == 1)][top_gene]\n",
    "\n",
    "X_test_df = pd.DataFrame(list(zip(X_test[top_gene], y_test)),columns =[top_gene, 'Cancer_type']) \n",
    "TopGene_Cancer0_test = X_test_df[(X_test_df.Cancer_type == 0)][top_gene]\n",
    "TopGene_Cancer1_test = X_test_df[(X_test_df.Cancer_type == 1)][top_gene]\n",
    "\n",
    "f,ax = plt.subplots(1,2, figsize=(14,6))\n",
    "ax[0].hist(TopGene_Cancer0_train, alpha=0.5, label = 'Cancer0_ALL');\n",
    "ax[0].hist(TopGene_Cancer1_train, alpha=0.5, label = 'Cancer1_AML');\n",
    "ax[0].set_title('Train Data')\n",
    "ax[0].set_xlabel(top_gene)\n",
    "ax[0].set_ylabel('Frequency')\n",
    "ax[0].legend()\n",
    "\n",
    "ax[1].hist(TopGene_Cancer0_test, alpha=0.5, label = 'Cancer0_ALL');\n",
    "ax[1].hist(TopGene_Cancer1_test, alpha=0.5, label = 'Cancer1_AML');\n",
    "ax[1].set_title('Test Data')\n",
    "ax[1].set_xlabel(top_gene)\n",
    "ax[1].set_ylabel('Frequency')\n",
    "ax[1].legend()"
   ]
  },
  {
   "cell_type": "code",
   "execution_count": 972,
   "metadata": {},
   "outputs": [
    {
     "data": {
      "text/plain": [
       "<matplotlib.legend.Legend at 0x13dc8a58>"
      ]
     },
     "execution_count": 972,
     "metadata": {},
     "output_type": "execute_result"
    },
    {
     "data": {
      "image/png": "[encoded data removed]",
      "text/plain": [
       "<Figure size 1008x432 with 2 Axes>"
      ]
     },
     "metadata": {},
     "output_type": "display_data"
    }
   ],
   "source": [
    "# Using Scaled Data\n",
    "X_train_df = pd.DataFrame(list(zip(X_train_scaled[top_gene], y_train)),columns =[top_gene, 'Cancer_type']) \n",
    "TopGene_Cancer0_train = X_train_df[(X_train_df.Cancer_type == 0)][top_gene]\n",
    "TopGene_Cancer1_train = X_train_df[(X_train_df.Cancer_type == 1)][top_gene]\n",
    "\n",
    "X_test_df = pd.DataFrame(list(zip(X_test_scaled[top_gene], y_test)),columns =[top_gene, 'Cancer_type']) \n",
    "TopGene_Cancer0_test = X_test_df[(X_test_df.Cancer_type == 0)][top_gene]\n",
    "TopGene_Cancer1_test = X_test_df[(X_test_df.Cancer_type == 1)][top_gene]\n",
    "\n",
    "f,ax = plt.subplots(1,2, figsize=(14,6))\n",
    "ax[0].hist(TopGene_Cancer0_train, alpha=0.5, label = 'Cancer0_ALL');\n",
    "ax[0].hist(TopGene_Cancer1_train, alpha=0.5, label = 'Cancer1_AML');\n",
    "ax[0].set_title('Train Data')\n",
    "ax[0].set_xlabel(top_gene)\n",
    "ax[0].set_ylabel('Frequency')\n",
    "ax[0].legend()\n",
    "\n",
    "ax[1].hist(TopGene_Cancer0_test, alpha=0.5, label = 'Cancer0_ALL');\n",
    "ax[1].hist(TopGene_Cancer1_test, alpha=0.5, label = 'Cancer1_AML');\n",
    "ax[1].set_title('Test Data')\n",
    "ax[1].set_xlabel(top_gene)\n",
    "ax[1].set_ylabel('Frequency')\n",
    "ax[1].legend()"
   ]
  },
  {
   "cell_type": "markdown",
   "metadata": {},
   "source": [
    "**1.4 Using your top gene from the previous part (call it  `best_predictor`), create a classification model by eye-balling a value for this gene that would discriminate the two classes the best. Justify your choice in 1-2 sentences. Report the accuracy of this hand-chosen model on the test set.**\n"
   ]
  },
  {
   "cell_type": "code",
   "execution_count": 973,
   "metadata": {},
   "outputs": [
    {
     "name": "stdout",
     "output_type": "stream",
     "text": [
      "Training Set Accuracy: 66.8874172185% \n",
      "\n",
      "It appears that scaled values between 0 and 0.5 of the M31523_at gene predicts the existace of Cancer1 (AML).Though it may not be wise to make this predictions based on one gene, if we have are given only this pieceof information it's reasonable make these assumptions based on the probability at each gene level\n"
     ]
    }
   ],
   "source": [
    "#your code here\n",
    "best_predictor = top_gene\n",
    "\n",
    "X_test_df['y_pred_test'] = ((X_test_df[top_gene] >= 0) * (X_test_df[top_gene] <= 0.5)).astype(float)\n",
    "test_score = accuracy_score(y_test, X_test_df['y_pred_test'])*100\n",
    "\n",
    "print(\"Training Set Accuracy: {}% \\n\".format(test_score))\n",
    "\n",
    "print(\"It appears that scaled values between 0 and 0.5 of the {} gene predicts the existace of Cancer1 (AML).\" \n",
    "       \"Though it may not be wise to make this predictions based on one gene, if we have are given only this piece\"\n",
    "      \"of information it's reasonable make these assumptions based on the probability at each gene level\".format(top_gene))"
   ]
  },
  {
   "cell_type": "markdown",
   "metadata": {},
   "source": [
    "<div class='exercise'><b> Question 2 [25 pts]: Linear and Logistic Regression  </b></div>\n",
    "\n",
    "\n",
    "In class we discussed how to use both linear regression and logistic regression for classification. For this question, you will work with a single gene predictor that you identify as the best predictor above to explore these two methods.\n",
    "\n",
    "**2.1** Fit a simple linear regression model to the training set using the single gene predictor `best_predictor` to predict cancer type. The scores predicted by the regression model for a patient could be interpreted as an estimate of the probability that the patient has Cancer_type=1 (AML). Is there a problem with this interpretation?\n",
    "\n",
    "\n",
    "Create a figure with following items displayed on the same plot (use training data):\n",
    " - the predicted quantitative response from the linear regression model as a function of the best gene predictor\n",
    " - the true binary response. \n",
    "\n",
    "\n",
    "**2.2** Use your estimated linear regression model to classify observations into 0 and 1 using the standard Bayes' classifier.  Evaluate the classification accuracy of this classification model on both the training and test sets.\n",
    "\n",
    "\n",
    "**2.3** Next, fit a simple logistic regression model to the training set. How do the training and test classification accuracies of this model compare with the linear regression model? \n",
    "\n",
    "Remember, you need to set the regularization parameter for sklearn's logistic regression function to be a very large value in order to **not** regularize (use 'C=100000'). \n",
    "\n",
    "\n",
    "**2.4** \n",
    "Print and interpret the logistic regression coefficients: the 'slope' and intercept. \n",
    "\n",
    "\n",
    "Create 2 plots (one each for training and testing data) with 4 items displayed on each plot.\n",
    "- the predicted quantitative response from the linear regression model as a function of the best gene predictor.\n",
    "- the predicted probabilities of the logistic regression model as a function of the best gene predictor. \n",
    "- the true binary response. \n",
    "- a horizontal line at $y=0.5$. \n",
    "\n",
    "Based on these plots, does one of the models appear better suited for binary classification than the other?  Explain in 3 sentences or fewer. \n",
    "\n"
   ]
  },
  {
   "cell_type": "markdown",
   "metadata": {},
   "source": [
    "<hr>\n",
    "### Solutions"
   ]
  },
  {
   "cell_type": "markdown",
   "metadata": {},
   "source": [
    "**2.1** **Fit a simple linear regression model to the training set using the single gene predictor `best_predictor` to predict cancer type. The scores predicted by the regression model for a patient could be interpreted as an estimate of the probability that the patient has Cancer_type=1 (AML).  Is there a problem with this interpretation?**\n",
    "\n"
   ]
  },
  {
   "cell_type": "code",
   "execution_count": 974,
   "metadata": {},
   "outputs": [],
   "source": [
    "import statsmodels.api as sm"
   ]
  },
  {
   "cell_type": "code",
   "execution_count": 975,
   "metadata": {},
   "outputs": [],
   "source": [
    "# your code here\n",
    "\n",
    "X_train_cst = sm.add_constant(X_train_scaled[best_predictor]) \n",
    "X_test_cst = sm.add_constant(X_test_scaled[best_predictor])\n",
    "\n",
    "model_linear_sklearn = LinearRegression()\n",
    "model_linear_sklearn.fit(X_train_cst, y_train)\n",
    "\n",
    "y_pred_train = model_linear_sklearn.predict(X_train_cst)\n",
    "y_pred_test = model_linear_sklearn.predict(X_test_cst)\n"
   ]
  },
  {
   "cell_type": "code",
   "execution_count": 976,
   "metadata": {},
   "outputs": [
    {
     "data": {
      "image/png": "[encoded data removed]",
      "text/plain": [
       "<Figure size 432x288 with 1 Axes>"
      ]
     },
     "metadata": {},
     "output_type": "display_data"
    }
   ],
   "source": [
    "# your code here\n",
    "#the predicted quantitative response from the linear regression model as a function of the best gene predictor\n",
    "#the true binary response\n",
    "\n",
    "plt.scatter(X_train_scaled[best_predictor], y_pred_train, label = 'Predicted Y value') \n",
    "plt.scatter(X_train_scaled[best_predictor], y_train, label = 'True Response') \n",
    "plt.xlabel(best_predictor) \n",
    "plt.ylabel(\"Cancer Type\")\n",
    "plt.title(\"Training Data\")\n",
    "plt.legend();\n"
   ]
  },
  {
   "cell_type": "code",
   "execution_count": 977,
   "metadata": {},
   "outputs": [
    {
     "data": {
      "image/png": "[encoded data removed]",
      "text/plain": [
       "<Figure size 432x288 with 1 Axes>"
      ]
     },
     "metadata": {},
     "output_type": "display_data"
    }
   ],
   "source": [
    "plt.hist(y_pred_train, alpha=0.6, label = 'Predicted Y value')  \n",
    "plt.xlabel(best_predictor) \n",
    "plt.ylabel(\"Frequency\")\n",
    "plt.title(\"Training Data\")\n",
    "plt.legend();"
   ]
  },
  {
   "cell_type": "markdown",
   "metadata": {},
   "source": [
    "- The limitation of using the predicted y values as the pprobability that patient has cancer is that there's no clear cut off point. Furthermore, since the existance of the cancer doesn't solely depend on this gene. Therefore, there's a chance that even though the predicted y value indicates that the probability of this patient having cancer as 0.3, However in reality the cancer can be present in that patient \n"
   ]
  },
  {
   "cell_type": "markdown",
   "metadata": {},
   "source": [
    "**2.2** **Use your estimated linear regression model to classify observations into 0 and 1 using the standard Bayes' classifier.  Evaluate the classification accuracy of this classification model on both the training and test sets.**"
   ]
  },
  {
   "cell_type": "code",
   "execution_count": 978,
   "metadata": {},
   "outputs": [
    {
     "name": "stdout",
     "output_type": "stream",
     "text": [
      "Accuracy for Training Data\t: 70.8818635607\n",
      "Accuracy for Testing Data\t: 68.8741721854\n"
     ]
    }
   ],
   "source": [
    "# your code here\n",
    "classfy_train = (y_pred_train > 0.5).astype(int) \n",
    "classfy_test = (y_pred_test > 0.5).astype(int)\n",
    "\n",
    "print(\"Accuracy for Training Data\\t: {}\".format(accuracy_score(y_train, classfy_train) * 100))\n",
    "print(\"Accuracy for Testing Data\\t: {}\".format(accuracy_score(y_test, classfy_test) * 100))"
   ]
  },
  {
   "cell_type": "markdown",
   "metadata": {},
   "source": [
    "\n",
    "**2.3** **Next, fit a simple logistic regression model to the training set. How do the training and test classification accuracies of this model compare with the linear regression model? Are the classifications substantially different?  Explain why this is the case.**\n",
    "\n",
    "**Remember, you need to set the regularization parameter for sklearn's logistic regression function to be a very large value in order to **not** regularize (use 'C=100000')."
   ]
  },
  {
   "cell_type": "code",
   "execution_count": 979,
   "metadata": {},
   "outputs": [
    {
     "name": "stdout",
     "output_type": "stream",
     "text": [
      "Logistic Regression\n",
      "Accuracy for Training Data\t: 70.7154742097\n",
      "Accuracy for Testing Data\t: 70.8609271523\n",
      "\n",
      "Linear Regression\n",
      "Accuracy for Training Data\t: 70.8818635607\n",
      "Accuracy for Testing Data\t: 68.8741721854\n"
     ]
    }
   ],
   "source": [
    "# your code here\n",
    "Log_model1 = LogisticRegression(C=100000).fit(X_train_cst,y_train)\n",
    "\n",
    "Log_model1_pred_train = Log_model1.predict(X_train_cst) \n",
    "Log_model1_pred_test = Log_model1.predict(X_test_cst)\n",
    "\n",
    "print(\"Logistic Regression\")\n",
    "print(\"Accuracy for Training Data\\t: {}\".format(accuracy_score(y_train, Log_model1_pred_train) * 100))\n",
    "print(\"Accuracy for Testing Data\\t: {}\".format(accuracy_score(y_test, Log_model1_pred_test) * 100))\n",
    "\n",
    "print(\"\\nLinear Regression\")\n",
    "print(\"Accuracy for Training Data\\t: {}\".format(accuracy_score(y_train, classfy_train) * 100))\n",
    "print(\"Accuracy for Testing Data\\t: {}\".format(accuracy_score(y_test, classfy_test) * 100))"
   ]
  },
  {
   "cell_type": "markdown",
   "metadata": {},
   "source": [
    "- The accuracy scores from both models are extremely similar. This is because we are using only one predictor to perform the model. Therefore, our linear estimates are pretty much the same\n"
   ]
  },
  {
   "cell_type": "markdown",
   "metadata": {},
   "source": [
    "**2.4 Print and interpret the logistic regression coefficients: the 'slope' and the intercept.**\n",
    "\n",
    "**Create 2 plots (with training and test data) with 4 items displayed on each plot.**\n",
    "- the predicted quantitative response from the linear regression model as a function of the best gene predictor.\n",
    "- the predicted probabilities of the logistic regression model as a function of the best gene predictor. \n",
    "- the true binary response. \n",
    "- a horizontal line at $y=0.5$.\n",
    "\n",
    "**Based on these plots, does one of the models appear better suited for binary classification than the other?  Explain in 3 sentences or fewer.** \n"
   ]
  },
  {
   "cell_type": "code",
   "execution_count": 980,
   "metadata": {},
   "outputs": [
    {
     "name": "stdout",
     "output_type": "stream",
     "text": [
      "Logistic Regression\n",
      "Intercept\t: 2.03863636916\n",
      "Slope\t\t: -8.75711199029\n"
     ]
    }
   ],
   "source": [
    "print(\"Logistic Regression\")\n",
    "print(\"Intercept\\t: {}\".format(Log_model1.coef_[0][0]))\n",
    "print(\"Slope\\t\\t: {}\".format(Log_model1.coef_[0][1]))"
   ]
  },
  {
   "cell_type": "code",
   "execution_count": 981,
   "metadata": {},
   "outputs": [
    {
     "data": {
      "image/png": "[encoded data removed]",
      "text/plain": [
       "<Figure size 1008x432 with 2 Axes>"
      ]
     },
     "metadata": {},
     "output_type": "display_data"
    }
   ],
   "source": [
    "# your code here\n",
    "\n",
    "f,ax = plt.subplots(1,2, figsize=(14,6))\n",
    "\n",
    "#the predicted quantitative response from the linear regression model as a function of the best gene predictor.\n",
    "ax[0].plot(X_train_scaled[best_predictor], y_pred_train, c=\"b\", label = 'Linear regression Prediction')  \n",
    "ax[1].plot(X_test_scaled[best_predictor], y_pred_test, c=\"b\", label = 'Linear regression Prediction') \n",
    "\n",
    "#the predicted probabilities of the logistic regression model as a function of the best gene predictor.\n",
    "Log_model1_predproba_train = Log_model1.predict_proba(X_train_cst)[:,1]\n",
    "Log_model1_predproba_test = Log_model1.predict_proba(X_test_cst)[:,1]\n",
    "\n",
    "ax[0].scatter(X_train_scaled[best_predictor], Log_model1_predproba_train, c=\"g\", alpha = 0.5, label = 'Logistic regression Prediction') \n",
    "ax[1].scatter(X_test_scaled[best_predictor], Log_model1_predproba_test, c=\"g\", alpha = 0.5, label = 'Logistic regression Prediction') \n",
    "\n",
    "#the true binary response.\n",
    "ax[0].scatter(X_train_scaled[best_predictor], y_train, c=\"orange\") \n",
    "ax[1].scatter(X_test_scaled[best_predictor], y_test, c=\"orange\") \n",
    "\n",
    "#a horizontal line at  𝑦=0.5 .\n",
    "ax[0].axhline(y=.5, c=\"r\") \n",
    "ax[1].axhline(y=.5, c=\"r\") \n",
    "            \n",
    "# labels \n",
    "ax[0].set_title(\"Train Set using \" + best_predictor + \" gene\") \n",
    "ax[0].set_xlabel(best_predictor + \"expression level\") \n",
    "ax[0].set_ylabel(\"Cancer type\") \n",
    "ax[0].legend();\n",
    "\n",
    "ax[1].set_title(\"Test Set using \" + best_predictor + \" gene\") \n",
    "ax[1].set_xlabel(best_predictor + \"expression level\") \n",
    "ax[1].set_ylabel(\"Cancer type\") \n",
    "ax[1].legend();"
   ]
  },
  {
   "cell_type": "markdown",
   "metadata": {},
   "source": [
    "- Though Both the regressions appear to be extremely similar Logistic regression might be the best option because it has a boundary of 0-1."
   ]
  },
  {
   "cell_type": "markdown",
   "metadata": {},
   "source": [
    "<div class='exercise'> <b> Question 3 [20pts]: Multiple Logistic Regression </b> </div>\n",
    "\n",
    "\n",
    "**3.1** Next, fit a multiple logistic regression model with all the gene predictors from the data set.  How does the classification accuracy of this model compare with the models fitted in question 2 with a single gene (on both the training and test sets)?  \n",
    "\n",
    "\n",
    "**3.2** How many of the coefficients estimated by this multiple logistic regression in the previous part are significantly different from zero at a *significance level of 5%*? Use the same value of C=100000 as before.\n",
    "\n",
    "**Hint:** To answer this question, use *bootstrapping* with 100 bootstrap samples/iterations.  \n",
    "\n",
    "\n",
    "**3.3** Comment on the classification accuracy of training and test set? Given the results above how would you assess the generalization capacity of your trained model? What other tests would you suggest to better guard against false sense of security on the accuracy of the model as a whole? \n",
    "\n",
    "**3.4** Now use regularization to improve predictions from the multiple logistic regression model.  Use LASSO-like regularization and cross-validation within the training set to tune the model.  Report the classification accuracy on both the training and test set.\n",
    "\n",
    "**3.5** Do the 10 best predictors from Q1 hold up as important features in this regularized model?  If not, explain why this is the case (feel free to use the data to support your explanation)."
   ]
  },
  {
   "cell_type": "markdown",
   "metadata": {},
   "source": [
    "<hr>\n",
    "### Solutions"
   ]
  },
  {
   "cell_type": "markdown",
   "metadata": {},
   "source": [
    "**3.1** **Next, fit a multiple logistic regression model with all the gene predictors from the data set.  How does the classification accuracy of this model compare with the models fitted in question 2 with a single gene (on both the training and test sets)?**  \n"
   ]
  },
  {
   "cell_type": "code",
   "execution_count": 982,
   "metadata": {},
   "outputs": [
    {
     "name": "stdout",
     "output_type": "stream",
     "text": [
      "Multiple Logistic Regression\n",
      "Accuracy for Training Data\t: 100.0\n",
      "Accuracy for Testing Data\t: 74.1721854305\n",
      "\n",
      "Logistic Regression\n",
      "Accuracy for Training Data\t: 70.7154742097\n",
      "Accuracy for Testing Data\t: 70.8609271523\n"
     ]
    }
   ],
   "source": [
    "# your code here\n",
    "X_train_cst = sm.add_constant(X_train) \n",
    "X_test_cst = sm.add_constant(X_test) \n",
    "\n",
    "Multi_Logistic_model = LogisticRegression(C=100000).fit(X_train_cst, y_train)\n",
    " \n",
    "Multi_Logistic_pred_train = Multi_Logistic_model.predict(X_train_cst) \n",
    "Multi_Logistic_pred_test = Multi_Logistic_model.predict(X_test_cst)\n",
    " \n",
    "print(\"Multiple Logistic Regression\")\n",
    "print(\"Accuracy for Training Data\\t: {}\".format(accuracy_score(y_train, Multi_Logistic_pred_train) * 100))\n",
    "print(\"Accuracy for Testing Data\\t: {}\".format(accuracy_score(y_test, Multi_Logistic_pred_test) * 100))\n",
    "\n",
    "print(\"\\nLogistic Regression\")\n",
    "print(\"Accuracy for Training Data\\t: {}\".format(accuracy_score(y_train, Log_model1_pred_train) * 100))\n",
    "print(\"Accuracy for Testing Data\\t: {}\".format(accuracy_score(y_test, Log_model1_pred_test) * 100))"
   ]
  },
  {
   "cell_type": "markdown",
   "metadata": {},
   "source": [
    "- Multiple logistic regression shows a significantly higher Accuracy score than the logistic regression performed with the single gene. However, this could be due to over fitting \n"
   ]
  },
  {
   "cell_type": "markdown",
   "metadata": {},
   "source": [
    "**3.2** **How many of the coefficients estimated by this multiple logistic regression in the previous part are significantly different from zero at a *significance level of 5%*? Use the same value of C=100000 as before.**\n",
    "\n",
    "**Hint:** **To answer this question, use *bootstrapping* with 1000 bootstrap samples/iterations.**  \n"
   ]
  },
  {
   "cell_type": "code",
   "execution_count": 983,
   "metadata": {},
   "outputs": [],
   "source": [
    "train_data = pd.concat([X_train,y_train], axis=1)"
   ]
  },
  {
   "cell_type": "code",
   "execution_count": 984,
   "metadata": {},
   "outputs": [
    {
     "name": "stdout",
     "output_type": "stream",
     "text": [
      "Number coefficients different from zero at a significance level of 5%\t: 546\n"
     ]
    }
   ],
   "source": [
    "# your code here\n",
    "model = LogisticRegression(C=100000).fit(X_train, y_train)\n",
    "bootstrapping = 100\n",
    "coef = np.zeros((bootstrapping, train_data.shape[1]-1))\n",
    "\n",
    "for i in range(bootstrapping):   \n",
    "    coef[i,:] = model.coef_\n",
    "\n",
    "coef_count = 0\n",
    "for i in range(coef.shape[1]):\n",
    "    coeff_samples = coef[:,i]\n",
    "    lower_bound = np.percentile(coeff_samples, 2.5)\n",
    "    upper_bound = np.percentile(coeff_samples, 97.5) \n",
    "    if lower_bound>0 or upper_bound<0:\n",
    "        coef_count += 1\n",
    "\n",
    "print('Number coefficients different from zero at a significance level of 5%\\t: {}'.format(coeffs_count))"
   ]
  },
  {
   "cell_type": "markdown",
   "metadata": {},
   "source": [
    "**3.3 Open question: Comment on the classification accuracy of training and test set? Given the results above how would you assest the generalization capacity of your trained model? What other tests would you suggest to better guard against false sense of security on the accuracy of the model as a whole.**"
   ]
  },
  {
   "cell_type": "markdown",
   "metadata": {},
   "source": [
    "- When performing Multiple logicstic Regression, we reached 100% accuracy with the training set. This suggest that we may have overfit the model. If we have more independent dataset we can run this model against that data to guage the accuracy. However, in order to better guard against the false sense of security on accuracy, we can plot the ROC curve"
   ]
  },
  {
   "cell_type": "markdown",
   "metadata": {},
   "source": [
    "**3.4 Now use regularization to improve predictions from the multiple logistic regression model.  Use LASSO-like regularization and cross-validation within the training set to tune the model.  Report the classification accuracy on both the training and test set.**"
   ]
  },
  {
   "cell_type": "code",
   "execution_count": 985,
   "metadata": {},
   "outputs": [],
   "source": [
    "# your code here\n",
    "Log_RegCV=LogisticRegressionCV(multi_class='auto', penalty='l1', solver='liblinear').fit(X_train_cst,y_train)\n",
    "Log_RegCV_predproba_train = Log_RegCV.predict_proba(X_train_cst)[:,1]"
   ]
  },
  {
   "cell_type": "code",
   "execution_count": 986,
   "metadata": {},
   "outputs": [
    {
     "name": "stdout",
     "output_type": "stream",
     "text": [
      "Logistic Regression CV\n",
      "Accuracy for Training Data\t: 100.0\n",
      "Accuracy for Testing Data\t: 76.821192053\n"
     ]
    }
   ],
   "source": [
    "Log_RegCV_pred_train = Log_RegCV.predict(X_train_cst) \n",
    "Log_RegCV_pred_test = Log_RegCV.predict(X_test_cst)\n",
    "\n",
    "print(\"Logistic Regression CV\")\n",
    "print(\"Accuracy for Training Data\\t: {}\".format(accuracy_score(y_train, Log_RegCV_pred_train) * 100))\n",
    "print(\"Accuracy for Testing Data\\t: {}\".format(accuracy_score(y_test, Log_RegCV_pred_test) * 100))"
   ]
  },
  {
   "cell_type": "markdown",
   "metadata": {},
   "source": [
    "**3.5: Do the 10 best predictors from Q1 hold up as important features in this regularized model?  If not, explain why this is the case (feel free to use the data to support your explanation).**"
   ]
  },
  {
   "cell_type": "code",
   "execution_count": 987,
   "metadata": {},
   "outputs": [
    {
     "name": "stdout",
     "output_type": "stream",
     "text": [
      "Top 10 Gene Predictors: \n",
      "['U72936_s_at', 'M31211_s_at', 'X80230_at', 'U29175_at', 'X53742_at', 'J04615_at', 'X76648_at', 'J04029_s_at', 'Y08612_at', 'M31523_at']\n"
     ]
    }
   ],
   "source": [
    "# your code here\n",
    "print(\"Top 10 Gene Predictors: \\n{}\".format(top10_gene));"
   ]
  },
  {
   "cell_type": "code",
   "execution_count": 988,
   "metadata": {},
   "outputs": [
    {
     "name": "stdout",
     "output_type": "stream",
     "text": [
      "Top 10 Gene Predictors using Regularized model: \n",
      "['HG881-HT881_at', 'M96980_at', 'HG4411-HT4681_at', 'M35296_at', 'X77794_at', 'L31881_at', 'X85753_at', 'M13232_s_at', 'U60325_at', 'X79204_at']\n"
     ]
    }
   ],
   "source": [
    "# your code here\n",
    "reg_top10_gene_index = np.argsort(np.abs(Log_RegCV.coef_[0]))[-10:]\n",
    "reg_top10_gene_list = [X_train.columns[i] for i in reg_top10_gene_index]\n",
    "print(\"Top 10 Gene Predictors using Regularized model: \\n{}\".format(reg_top10_gene_list));"
   ]
  },
  {
   "cell_type": "code",
   "execution_count": 989,
   "metadata": {},
   "outputs": [
    {
     "name": "stdout",
     "output_type": "stream",
     "text": [
      "Importance rating of the previously predicted Top10 genes with respect to the Regularized model : \n",
      "[2271, 5899, 2371, 2093, 6670, 922, 1857, 5740, 5060, 5553]\n"
     ]
    }
   ],
   "source": [
    "# your code here\n",
    "priority_index_top10_gene = []\n",
    "for i in top10_gene_index:\n",
    "    x = len(Log_RegCV.coef_[0])-list(np.argsort(np.abs(Log_RegCV.coef_[0]))).index(i)\n",
    "    priority_index_top10_gene.append(x)\n",
    "\n",
    "print(\"Importance rating of the previously predicted Top10 genes with respect to the Regularized model : \\n{}\".format(priority_index_top10_gene));"
   ]
  },
  {
   "cell_type": "code",
   "execution_count": 990,
   "metadata": {},
   "outputs": [
    {
     "name": "stdout",
     "output_type": "stream",
     "text": [
      "Top Gene Predictor using Regularized model: \tX79204_at\n"
     ]
    }
   ],
   "source": [
    "reg_top_gene_index = np.argsort(np.abs(Log_RegCV.coef_[0]))[-1:]\n",
    "reg_top_gene_list = [X_train.columns[i] for i in reg_top_gene_index][0]\n",
    "print(\"Top Gene Predictor using Regularized model: \\t{}\".format(reg_top_gene_list));"
   ]
  },
  {
   "cell_type": "code",
   "execution_count": 991,
   "metadata": {},
   "outputs": [
    {
     "data": {
      "image/png": "[encoded data removed]",
      "text/plain": [
       "<Figure size 1008x432 with 2 Axes>"
      ]
     },
     "metadata": {},
     "output_type": "display_data"
    }
   ],
   "source": [
    "X_train_df = pd.DataFrame(list(zip(X_train_scaled[reg_top_gene_list], y_train)),columns =[reg_top_gene_list, 'Cancer_type']) \n",
    "TopGene_Cancer0_train = X_train_df[(X_train_df.Cancer_type == 0)][reg_top_gene_list]\n",
    "TopGene_Cancer1_train = X_train_df[(X_train_df.Cancer_type == 1)][reg_top_gene_list]\n",
    "\n",
    "X_test_df = pd.DataFrame(list(zip(X_test_scaled[reg_top_gene_list], y_test)),columns =[reg_top_gene_list, 'Cancer_type']) \n",
    "TopGene_Cancer0_test = X_test_df[(X_test_df.Cancer_type == 0)][reg_top_gene_list]\n",
    "TopGene_Cancer1_test = X_test_df[(X_test_df.Cancer_type == 1)][reg_top_gene_list]\n",
    "\n",
    "f,ax = plt.subplots(1,2, figsize=(14,6))\n",
    "ax[0].hist(TopGene_Cancer0_train, alpha=0.5, label = 'Cancer0_ALL');\n",
    "ax[0].hist(TopGene_Cancer1_train, alpha=0.5, label = 'Cancer1_AML');\n",
    "ax[0].set_title('Train Data')\n",
    "ax[0].set_xlabel(reg_top_gene_list)\n",
    "ax[0].set_ylabel('Frequency')\n",
    "ax[0].legend()\n",
    "\n",
    "ax[1].hist(TopGene_Cancer0_test, alpha=0.5, label = 'Cancer0_ALL');\n",
    "ax[1].hist(TopGene_Cancer1_test, alpha=0.5, label = 'Cancer1_AML');\n",
    "ax[1].set_title('Test Data')\n",
    "ax[1].set_xlabel(reg_top_gene_list)\n",
    "ax[1].set_ylabel('Frequency')\n",
    "ax[1].legend();"
   ]
  },
  {
   "cell_type": "markdown",
   "metadata": {},
   "source": [
    "- Previously predicted top10 Gene predictors are not equivalent to the Top10 predictors obtained from the regularized model. In fact, importance rating of the previously predicted Top10 genes with respect to the resularized model indicated that none of the previous predectors falls with the top 100 predictors. \n",
    "- Based on the accuracy scores of the initial model, I believe the regularized model predictors might actually be better at Cancer type prediction\n",
    "- This might be due to making predictions using the linear regression model.\n"
   ]
  },
  {
   "cell_type": "markdown",
   "metadata": {},
   "source": [
    "<div class='exercise'> <b> Question 4 [25pts]: Multi Class Log Regression </b> </div>"
   ]
  },
  {
   "cell_type": "markdown",
   "metadata": {},
   "source": [
    "**4.1** Load the data from `hw4_mc_enhance.csv.zip` and examine its structure. How many instances of each class are there in our dataset? \n",
    "\n",
    "**4.2** Split the dataset into train and test, 80-20 split, random_state = 8. \n",
    "\n",
    "We are going to utilize these two features - 'M31523_at', 'X95735_at'.  Create a scatter plot of these two features using the training dataset.  It should be easily discernable via labeling/marking in the plot which observations belong to which `cancer_type`.\n",
    "\n",
    "**4.3** Fit the following two models using crossvalidation: \n",
    "- Logistic Regression Multiclass model with linear features. \n",
    "- Logistic Regression Multiclass model with Polynomial features, degree = 2.\n",
    "\n",
    "**4.4** Plot the decision boundaries for each model and interpret the results. Hint: You may utilize the function `overlay_decision_boundary`. \n",
    "\n",
    "**4.5** Report and plot the CV scores for the two models and interpret. \n"
   ]
  },
  {
   "cell_type": "markdown",
   "metadata": {},
   "source": [
    "<hr>\n",
    "### Solutions"
   ]
  },
  {
   "cell_type": "markdown",
   "metadata": {},
   "source": [
    "**4.1 Load the data from `hw4_mc_enhance.csv.zip` and examine its structure. How many instances of each class are there in our dataset?**"
   ]
  },
  {
   "cell_type": "code",
   "execution_count": 992,
   "metadata": {},
   "outputs": [
    {
     "data": {
      "text/html": [
       "<div>\n",
       "<style scoped>\n",
       "    .dataframe tbody tr th:only-of-type {\n",
       "        vertical-align: middle;\n",
       "    }\n",
       "\n",
       "    .dataframe tbody tr th {\n",
       "        vertical-align: top;\n",
       "    }\n",
       "\n",
       "    .dataframe thead th {\n",
       "        text-align: right;\n",
       "    }\n",
       "</style>\n",
       "<table border=\"1\" class=\"dataframe\">\n",
       "  <thead>\n",
       "    <tr style=\"text-align: right;\">\n",
       "      <th></th>\n",
       "      <th>AFFX-BioB-5_at</th>\n",
       "      <th>AFFX-BioB-M_at</th>\n",
       "      <th>AFFX-BioB-3_at</th>\n",
       "      <th>AFFX-BioC-5_at</th>\n",
       "      <th>AFFX-BioC-3_at</th>\n",
       "      <th>AFFX-BioDn-5_at</th>\n",
       "      <th>AFFX-BioDn-3_at</th>\n",
       "      <th>AFFX-CreX-5_at</th>\n",
       "      <th>AFFX-CreX-3_at</th>\n",
       "      <th>AFFX-BioB-5_st</th>\n",
       "      <th>...</th>\n",
       "      <th>U58516_at</th>\n",
       "      <th>U73738_at</th>\n",
       "      <th>X06956_at</th>\n",
       "      <th>X16699_at</th>\n",
       "      <th>X83863_at</th>\n",
       "      <th>Z17240_at</th>\n",
       "      <th>L49218_f_at</th>\n",
       "      <th>M71243_f_at</th>\n",
       "      <th>Z78285_f_at</th>\n",
       "      <th>cancer_type</th>\n",
       "    </tr>\n",
       "  </thead>\n",
       "  <tbody>\n",
       "    <tr>\n",
       "      <th>0</th>\n",
       "      <td>-1363.276427</td>\n",
       "      <td>-1058.585495</td>\n",
       "      <td>-541.469194</td>\n",
       "      <td>74.349803</td>\n",
       "      <td>-1110.082554</td>\n",
       "      <td>-1545.661845</td>\n",
       "      <td>-2037.029616</td>\n",
       "      <td>-1255.990888</td>\n",
       "      <td>-335.480958</td>\n",
       "      <td>-938.425691</td>\n",
       "      <td>...</td>\n",
       "      <td>1565.618803</td>\n",
       "      <td>-485.680714</td>\n",
       "      <td>-170.261227</td>\n",
       "      <td>-919.114293</td>\n",
       "      <td>1675.050053</td>\n",
       "      <td>389.769289</td>\n",
       "      <td>-526.449219</td>\n",
       "      <td>-268.963924</td>\n",
       "      <td>-779.643092</td>\n",
       "      <td>0.0</td>\n",
       "    </tr>\n",
       "    <tr>\n",
       "      <th>1</th>\n",
       "      <td>-796.285053</td>\n",
       "      <td>-1167.103365</td>\n",
       "      <td>7.538493</td>\n",
       "      <td>83.544731</td>\n",
       "      <td>-1116.432539</td>\n",
       "      <td>-1731.392100</td>\n",
       "      <td>249.376523</td>\n",
       "      <td>-1636.960108</td>\n",
       "      <td>-149.080421</td>\n",
       "      <td>-222.783440</td>\n",
       "      <td>...</td>\n",
       "      <td>622.498054</td>\n",
       "      <td>-1275.354673</td>\n",
       "      <td>214.828233</td>\n",
       "      <td>-750.220666</td>\n",
       "      <td>-441.589276</td>\n",
       "      <td>9.841713</td>\n",
       "      <td>-671.911209</td>\n",
       "      <td>-671.911209</td>\n",
       "      <td>-644.272577</td>\n",
       "      <td>0.0</td>\n",
       "    </tr>\n",
       "    <tr>\n",
       "      <th>2</th>\n",
       "      <td>-679.139168</td>\n",
       "      <td>-1069.832308</td>\n",
       "      <td>-690.301829</td>\n",
       "      <td>-112.075981</td>\n",
       "      <td>-1199.319178</td>\n",
       "      <td>-1286.387935</td>\n",
       "      <td>-605.465604</td>\n",
       "      <td>-1043.041921</td>\n",
       "      <td>-728.254877</td>\n",
       "      <td>388.011238</td>\n",
       "      <td>...</td>\n",
       "      <td>162.525483</td>\n",
       "      <td>-692.534361</td>\n",
       "      <td>517.498108</td>\n",
       "      <td>-674.674103</td>\n",
       "      <td>1265.396405</td>\n",
       "      <td>-65.192805</td>\n",
       "      <td>-714.859684</td>\n",
       "      <td>3672.066149</td>\n",
       "      <td>-822.021231</td>\n",
       "      <td>0.0</td>\n",
       "    </tr>\n",
       "    <tr>\n",
       "      <th>3</th>\n",
       "      <td>-1164.400197</td>\n",
       "      <td>-1109.939891</td>\n",
       "      <td>-990.127218</td>\n",
       "      <td>-238.574994</td>\n",
       "      <td>-1264.607160</td>\n",
       "      <td>-1218.860503</td>\n",
       "      <td>-1255.893511</td>\n",
       "      <td>-1009.732928</td>\n",
       "      <td>-521.768585</td>\n",
       "      <td>-926.953263</td>\n",
       "      <td>...</td>\n",
       "      <td>-31.625831</td>\n",
       "      <td>-621.975549</td>\n",
       "      <td>-458.594630</td>\n",
       "      <td>-630.689198</td>\n",
       "      <td>937.767618</td>\n",
       "      <td>-264.715941</td>\n",
       "      <td>-635.046022</td>\n",
       "      <td>475.944222</td>\n",
       "      <td>-794.070116</td>\n",
       "      <td>0.0</td>\n",
       "    </tr>\n",
       "    <tr>\n",
       "      <th>4</th>\n",
       "      <td>-1299.653758</td>\n",
       "      <td>-1401.998536</td>\n",
       "      <td>-1077.543813</td>\n",
       "      <td>-437.344560</td>\n",
       "      <td>-1386.755697</td>\n",
       "      <td>-1726.453259</td>\n",
       "      <td>-1499.988218</td>\n",
       "      <td>-1219.084464</td>\n",
       "      <td>-994.796971</td>\n",
       "      <td>-670.342247</td>\n",
       "      <td>...</td>\n",
       "      <td>383.591216</td>\n",
       "      <td>-905.517483</td>\n",
       "      <td>-36.675640</td>\n",
       "      <td>-1116.739685</td>\n",
       "      <td>316.087213</td>\n",
       "      <td>-210.879518</td>\n",
       "      <td>-953.423549</td>\n",
       "      <td>-291.448812</td>\n",
       "      <td>-1057.945876</td>\n",
       "      <td>0.0</td>\n",
       "    </tr>\n",
       "  </tbody>\n",
       "</table>\n",
       "<p>5 rows × 7130 columns</p>\n",
       "</div>"
      ],
      "text/plain": [
       "   AFFX-BioB-5_at  AFFX-BioB-M_at  AFFX-BioB-3_at  AFFX-BioC-5_at  \\\n",
       "0    -1363.276427    -1058.585495     -541.469194       74.349803   \n",
       "1     -796.285053    -1167.103365        7.538493       83.544731   \n",
       "2     -679.139168    -1069.832308     -690.301829     -112.075981   \n",
       "3    -1164.400197    -1109.939891     -990.127218     -238.574994   \n",
       "4    -1299.653758    -1401.998536    -1077.543813     -437.344560   \n",
       "\n",
       "   AFFX-BioC-3_at  AFFX-BioDn-5_at  AFFX-BioDn-3_at  AFFX-CreX-5_at  \\\n",
       "0    -1110.082554     -1545.661845     -2037.029616    -1255.990888   \n",
       "1    -1116.432539     -1731.392100       249.376523    -1636.960108   \n",
       "2    -1199.319178     -1286.387935      -605.465604    -1043.041921   \n",
       "3    -1264.607160     -1218.860503     -1255.893511    -1009.732928   \n",
       "4    -1386.755697     -1726.453259     -1499.988218    -1219.084464   \n",
       "\n",
       "   AFFX-CreX-3_at  AFFX-BioB-5_st  ...    U58516_at    U73738_at   X06956_at  \\\n",
       "0     -335.480958     -938.425691  ...  1565.618803  -485.680714 -170.261227   \n",
       "1     -149.080421     -222.783440  ...   622.498054 -1275.354673  214.828233   \n",
       "2     -728.254877      388.011238  ...   162.525483  -692.534361  517.498108   \n",
       "3     -521.768585     -926.953263  ...   -31.625831  -621.975549 -458.594630   \n",
       "4     -994.796971     -670.342247  ...   383.591216  -905.517483  -36.675640   \n",
       "\n",
       "     X16699_at    X83863_at   Z17240_at  L49218_f_at  M71243_f_at  \\\n",
       "0  -919.114293  1675.050053  389.769289  -526.449219  -268.963924   \n",
       "1  -750.220666  -441.589276    9.841713  -671.911209  -671.911209   \n",
       "2  -674.674103  1265.396405  -65.192805  -714.859684  3672.066149   \n",
       "3  -630.689198   937.767618 -264.715941  -635.046022   475.944222   \n",
       "4 -1116.739685   316.087213 -210.879518  -953.423549  -291.448812   \n",
       "\n",
       "   Z78285_f_at  cancer_type  \n",
       "0  -779.643092          0.0  \n",
       "1  -644.272577          0.0  \n",
       "2  -822.021231          0.0  \n",
       "3  -794.070116          0.0  \n",
       "4 -1057.945876          0.0  \n",
       "\n",
       "[5 rows x 7130 columns]"
      ]
     },
     "execution_count": 992,
     "metadata": {},
     "output_type": "execute_result"
    }
   ],
   "source": [
    "#your code here\n",
    "mc_data = pd.read_csv('data/hw4_mc_enhance.csv', index_col=0)\n",
    "mc_data.head()"
   ]
  },
  {
   "cell_type": "code",
   "execution_count": 993,
   "metadata": {},
   "outputs": [
    {
     "name": "stdout",
     "output_type": "stream",
     "text": [
      "Count of Null entries in the dataset:\n"
     ]
    },
    {
     "data": {
      "text/plain": [
       "0    0\n",
       "dtype: int64"
      ]
     },
     "execution_count": 993,
     "metadata": {},
     "output_type": "execute_result"
    }
   ],
   "source": [
    "#your code here \n",
    "mc_data.describe()\n",
    "mc_data_isna_count = pd.DataFrame(mc_data.isna().sum())\n",
    "\n",
    "print(\"Count of Null entries in the dataset:\")\n",
    "mc_data_isna_count[mc_data_isna_count[0]>0].count()"
   ]
  },
  {
   "cell_type": "code",
   "execution_count": 994,
   "metadata": {},
   "outputs": [
    {
     "data": {
      "text/plain": [
       "(750, 7130)"
      ]
     },
     "metadata": {},
     "output_type": "display_data"
    },
    {
     "data": {
      "text/html": [
       "<div>\n",
       "<style scoped>\n",
       "    .dataframe tbody tr th:only-of-type {\n",
       "        vertical-align: middle;\n",
       "    }\n",
       "\n",
       "    .dataframe tbody tr th {\n",
       "        vertical-align: top;\n",
       "    }\n",
       "\n",
       "    .dataframe thead th {\n",
       "        text-align: right;\n",
       "    }\n",
       "</style>\n",
       "<table border=\"1\" class=\"dataframe\">\n",
       "  <thead>\n",
       "    <tr style=\"text-align: right;\">\n",
       "      <th></th>\n",
       "      <th>AFFX-BioB-5_at</th>\n",
       "      <th>AFFX-BioB-M_at</th>\n",
       "      <th>AFFX-BioB-3_at</th>\n",
       "      <th>AFFX-BioC-5_at</th>\n",
       "      <th>AFFX-BioC-3_at</th>\n",
       "      <th>AFFX-BioDn-5_at</th>\n",
       "      <th>AFFX-BioDn-3_at</th>\n",
       "      <th>AFFX-CreX-5_at</th>\n",
       "      <th>AFFX-CreX-3_at</th>\n",
       "      <th>AFFX-BioB-5_st</th>\n",
       "      <th>...</th>\n",
       "      <th>U48730_at</th>\n",
       "      <th>U58516_at</th>\n",
       "      <th>U73738_at</th>\n",
       "      <th>X06956_at</th>\n",
       "      <th>X16699_at</th>\n",
       "      <th>X83863_at</th>\n",
       "      <th>Z17240_at</th>\n",
       "      <th>L49218_f_at</th>\n",
       "      <th>M71243_f_at</th>\n",
       "      <th>Z78285_f_at</th>\n",
       "    </tr>\n",
       "    <tr>\n",
       "      <th>cancer_type</th>\n",
       "      <th></th>\n",
       "      <th></th>\n",
       "      <th></th>\n",
       "      <th></th>\n",
       "      <th></th>\n",
       "      <th></th>\n",
       "      <th></th>\n",
       "      <th></th>\n",
       "      <th></th>\n",
       "      <th></th>\n",
       "      <th></th>\n",
       "      <th></th>\n",
       "      <th></th>\n",
       "      <th></th>\n",
       "      <th></th>\n",
       "      <th></th>\n",
       "      <th></th>\n",
       "      <th></th>\n",
       "      <th></th>\n",
       "      <th></th>\n",
       "      <th></th>\n",
       "    </tr>\n",
       "  </thead>\n",
       "  <tbody>\n",
       "    <tr>\n",
       "      <th>0.0</th>\n",
       "      <td>250</td>\n",
       "      <td>250</td>\n",
       "      <td>250</td>\n",
       "      <td>250</td>\n",
       "      <td>250</td>\n",
       "      <td>250</td>\n",
       "      <td>250</td>\n",
       "      <td>250</td>\n",
       "      <td>250</td>\n",
       "      <td>250</td>\n",
       "      <td>...</td>\n",
       "      <td>250</td>\n",
       "      <td>250</td>\n",
       "      <td>250</td>\n",
       "      <td>250</td>\n",
       "      <td>250</td>\n",
       "      <td>250</td>\n",
       "      <td>250</td>\n",
       "      <td>250</td>\n",
       "      <td>250</td>\n",
       "      <td>250</td>\n",
       "    </tr>\n",
       "    <tr>\n",
       "      <th>1.0</th>\n",
       "      <td>250</td>\n",
       "      <td>250</td>\n",
       "      <td>250</td>\n",
       "      <td>250</td>\n",
       "      <td>250</td>\n",
       "      <td>250</td>\n",
       "      <td>250</td>\n",
       "      <td>250</td>\n",
       "      <td>250</td>\n",
       "      <td>250</td>\n",
       "      <td>...</td>\n",
       "      <td>250</td>\n",
       "      <td>250</td>\n",
       "      <td>250</td>\n",
       "      <td>250</td>\n",
       "      <td>250</td>\n",
       "      <td>250</td>\n",
       "      <td>250</td>\n",
       "      <td>250</td>\n",
       "      <td>250</td>\n",
       "      <td>250</td>\n",
       "    </tr>\n",
       "    <tr>\n",
       "      <th>2.0</th>\n",
       "      <td>250</td>\n",
       "      <td>250</td>\n",
       "      <td>250</td>\n",
       "      <td>250</td>\n",
       "      <td>250</td>\n",
       "      <td>250</td>\n",
       "      <td>250</td>\n",
       "      <td>250</td>\n",
       "      <td>250</td>\n",
       "      <td>250</td>\n",
       "      <td>...</td>\n",
       "      <td>250</td>\n",
       "      <td>250</td>\n",
       "      <td>250</td>\n",
       "      <td>250</td>\n",
       "      <td>250</td>\n",
       "      <td>250</td>\n",
       "      <td>250</td>\n",
       "      <td>250</td>\n",
       "      <td>250</td>\n",
       "      <td>250</td>\n",
       "    </tr>\n",
       "  </tbody>\n",
       "</table>\n",
       "<p>3 rows × 7129 columns</p>\n",
       "</div>"
      ],
      "text/plain": [
       "             AFFX-BioB-5_at  AFFX-BioB-M_at  AFFX-BioB-3_at  AFFX-BioC-5_at  \\\n",
       "cancer_type                                                                   \n",
       "0.0                     250             250             250             250   \n",
       "1.0                     250             250             250             250   \n",
       "2.0                     250             250             250             250   \n",
       "\n",
       "             AFFX-BioC-3_at  AFFX-BioDn-5_at  AFFX-BioDn-3_at  AFFX-CreX-5_at  \\\n",
       "cancer_type                                                                     \n",
       "0.0                     250              250              250             250   \n",
       "1.0                     250              250              250             250   \n",
       "2.0                     250              250              250             250   \n",
       "\n",
       "             AFFX-CreX-3_at  AFFX-BioB-5_st  ...  U48730_at  U58516_at  \\\n",
       "cancer_type                                  ...                         \n",
       "0.0                     250             250  ...        250        250   \n",
       "1.0                     250             250  ...        250        250   \n",
       "2.0                     250             250  ...        250        250   \n",
       "\n",
       "             U73738_at  X06956_at  X16699_at  X83863_at  Z17240_at  \\\n",
       "cancer_type                                                          \n",
       "0.0                250        250        250        250        250   \n",
       "1.0                250        250        250        250        250   \n",
       "2.0                250        250        250        250        250   \n",
       "\n",
       "             L49218_f_at  M71243_f_at  Z78285_f_at  \n",
       "cancer_type                                         \n",
       "0.0                  250          250          250  \n",
       "1.0                  250          250          250  \n",
       "2.0                  250          250          250  \n",
       "\n",
       "[3 rows x 7129 columns]"
      ]
     },
     "execution_count": 994,
     "metadata": {},
     "output_type": "execute_result"
    }
   ],
   "source": [
    "display(mc_data.shape)\n",
    "mc_data.groupby('cancer_type').count()"
   ]
  },
  {
   "cell_type": "markdown",
   "metadata": {},
   "source": [
    "**4.2 Split the dataset into train and test, 80-20 split, random_state = 8.**\n",
    "\n",
    "**We are going to utilize these two features - 'M31523_at', 'X95735_at'.  Create a scatter plot of these two features using training dataset.  We should be able to discern from the plot which sample belongs to which `cancer_type`.** "
   ]
  },
  {
   "cell_type": "code",
   "execution_count": 995,
   "metadata": {},
   "outputs": [],
   "source": [
    "# your code here\n",
    "#train_data, test_data = train_test_split(mc_data, test_size=.2, random_state=8)\n",
    "subset_data = pd.concat([mc_data['M31523_at'],mc_data['X95735_at'],mc_data['cancer_type']], axis=1)\n",
    "\n",
    "X_train, X_test, y_train, y_test =train_test_split(subset_data.loc[:, subset_data.columns != 'cancer_type'], \n",
    "                                                         subset_data.cancer_type, test_size=0.2, \n",
    "                                                         random_state = 8, \n",
    "                                                         stratify = subset_data.cancer_type)"
   ]
  },
  {
   "cell_type": "code",
   "execution_count": 996,
   "metadata": {},
   "outputs": [],
   "source": [
    "def create_scatterplot(dataset):\n",
    "    ax=plt.gca()\n",
    "    ax.set_xlabel(\"M31523_at\")\n",
    "    ax.set_ylabel(\"X95735_at\")\n",
    "    for i in range(0,4):  \n",
    "        dataset_i = dataset[dataset['cancer_type']==i]\n",
    "        ax.scatter(dataset_i[\"M31523_at\"],dataset_i[\"X95735_at\"])\n",
    "    ax.legend([\"0\", \"1\", \"2\"],loc=\"right\")\n",
    "    return ax"
   ]
  },
  {
   "cell_type": "code",
   "execution_count": 997,
   "metadata": {
    "scrolled": false
   },
   "outputs": [
    {
     "data": {
      "image/png": "[encoded data removed]",
      "text/plain": [
       "<Figure size 1008x432 with 2 Axes>"
      ]
     },
     "metadata": {},
     "output_type": "display_data"
    }
   ],
   "source": [
    "# your code here\n",
    "f,ax = plt.subplots(1,2, figsize=(14,6))\n",
    "ax[0].scatter(X_train['M31523_at'],y_train, alpha=0.5, label = 'M31523_at')\n",
    "ax[0].scatter(X_train['X95735_at'],y_train, alpha=0.5, label = 'X95735_at')\n",
    "ax[0].set_title('Train Data')\n",
    "ax[0].set_xlabel('Gene Level')\n",
    "ax[0].set_ylabel('Cancer Type')\n",
    "ax[0].legend()\n",
    "\n",
    "xy_train = pd.concat([X_train['M31523_at'],X_train['X95735_at'],y_train], axis=1)\n",
    "#ax[1] = sns.scatterplot(x=\"M31523_at\", y=\"X95735_at\", hue=xy_train['cancer_type'], data=xy_train)\n",
    "ax[1] = create_scatterplot(xy_train)\n",
    "ax[1].set_title('Train Data');\n",
    "\n",
    "#legend = ax[1].legend_\n",
    "#labels=['0', '1', '2','2']\n",
    "#for i, label in enumerate(labels):\n",
    "#    legend.get_texts()[i+1].set_text(label)"
   ]
  },
  {
   "cell_type": "code",
   "execution_count": 998,
   "metadata": {},
   "outputs": [
    {
     "data": {
      "image/png": "[encoded data removed]",
      "text/plain": [
       "<Figure size 576x432 with 1 Axes>"
      ]
     },
     "metadata": {},
     "output_type": "display_data"
    }
   ],
   "source": [
    "#sns.pairplot(xy_train, hue = 'cancer_type')\n",
    "g  = sns.pairplot(xy_train, x_vars=[\"M31523_at\"], y_vars=[\"X95735_at\"], hue = 'cancer_type')\n",
    "g.fig.set_size_inches(8,6)"
   ]
  },
  {
   "cell_type": "markdown",
   "metadata": {},
   "source": [
    "**4.3  Fit the following two models using crossvalidation:**\n",
    "\n",
    "**Logistic Regression Multiclass model with linear features.**\n",
    "\n",
    "**Logistic Regression Multiclass model with Polynomial features, degree = 2.**\n"
   ]
  },
  {
   "cell_type": "code",
   "execution_count": 999,
   "metadata": {},
   "outputs": [
    {
     "name": "stdout",
     "output_type": "stream",
     "text": [
      "Multiclass Logistic Regression CV\n",
      "Accuracy for Training Data\t: 84.8333333333\n",
      "Accuracy for Testing Data\t: 86.0\n"
     ]
    }
   ],
   "source": [
    "# your code here\n",
    "scaler=MinMaxScaler().fit(X_train) \n",
    "X_train_scaled=pd.DataFrame(scaler.transform(X_train),index=X_train.index,columns=X_train.columns)\n",
    "X_test_scaled=pd.DataFrame(scaler.transform(X_test),index=X_test.index,columns=X_test.columns)\n",
    "\n",
    "X_train_cst = sm.add_constant(X_train_scaled) \n",
    "X_test_cst = sm.add_constant(X_test_scaled)\n",
    "\n",
    "Multi_Log_RegCV=LogisticRegressionCV().fit(X_train_cst,y_train)\n",
    "Multi_Log_RegCV_predproba_train = Multi_Log_RegCV.predict_proba(X_train_cst)[:,1]\n",
    "\n",
    "Multi_Log_RegCV_pred_train = Multi_Log_RegCV.predict(X_train_cst) \n",
    "Multi_Log_RegCV_pred_test = Multi_Log_RegCV.predict(X_test_cst)\n",
    "\n",
    "print(\"Multiclass Logistic Regression CV\")\n",
    "print(\"Accuracy for Training Data\\t: {}\".format(accuracy_score(y_train, Multi_Log_RegCV_pred_train) * 100))\n",
    "print(\"Accuracy for Testing Data\\t: {}\".format(accuracy_score(y_test, Multi_Log_RegCV_pred_test) * 100))"
   ]
  },
  {
   "cell_type": "code",
   "execution_count": 1000,
   "metadata": {},
   "outputs": [
    {
     "name": "stdout",
     "output_type": "stream",
     "text": [
      "Multiclass Logistic Regression CV with Polynomial features, degree = 2\n",
      "Accuracy for Training Data\t: 88.8333333333\n",
      "Accuracy for Testing Data\t: 90.6666666667\n"
     ]
    }
   ],
   "source": [
    "# your code here\n",
    "X_train_poly_cst=X_train_cst.copy()\n",
    "X_train_poly_cst['M31523_at^2'] = X_train_cst['M31523_at']**2\n",
    "X_train_poly_cst['X95735_at^2'] = X_train_cst['X95735_at']**2\n",
    "\n",
    "X_test_poly_cst=X_test_cst.copy()\n",
    "X_test_poly_cst['M31523_at^2'] = X_test_poly_cst['M31523_at']**2\n",
    "X_test_poly_cst['X95735_at^2'] = X_test_poly_cst['X95735_at']**2\n",
    "\n",
    "Multi_Log_RegCV_poly=LogisticRegressionCV().fit(X_train_poly_cst,y_train)\n",
    "Multi_Log_RegCV_poly_predproba_train = Multi_Log_RegCV_poly.predict_proba(X_train_poly_cst)[:,1]\n",
    "\n",
    "Multi_Log_RegCV_poly_pred_train = Multi_Log_RegCV_poly.predict(X_train_poly_cst) \n",
    "Multi_Log_RegCV_poly_pred_test = Multi_Log_RegCV_poly.predict(X_test_poly_cst)\n",
    "\n",
    "print(\"Multiclass Logistic Regression CV with Polynomial features, degree = 2\")\n",
    "print(\"Accuracy for Training Data\\t: {}\".format(accuracy_score(y_train, Multi_Log_RegCV_poly_pred_train) * 100))\n",
    "print(\"Accuracy for Testing Data\\t: {}\".format(accuracy_score(y_test, Multi_Log_RegCV_poly_pred_test) * 100))"
   ]
  },
  {
   "cell_type": "code",
   "execution_count": 1010,
   "metadata": {},
   "outputs": [
    {
     "name": "stdout",
     "output_type": "stream",
     "text": [
      "Multiclass Logistic Regression CV with Polynomial features, degree = 2 using make_pipeline\n",
      "Accuracy for Training Data\t: 83.1666666667\n",
      "Accuracy for Testing Data\t: 84.6666666667\n"
     ]
    }
   ],
   "source": [
    "# your code here\n",
    "from sklearn.pipeline import make_pipeline\n",
    "from sklearn.preprocessing import PolynomialFeatures\n",
    "\n",
    "polynomial_logreg_estimator = make_pipeline(\n",
    "    PolynomialFeatures(degree=2, include_bias=False),\n",
    "    LogisticRegression())\n",
    "\n",
    "X_train_poly_cst=X_train_cst.copy()\n",
    "X_train_poly_cst['M31523_at^2'] = X_train_cst['M31523_at']**2\n",
    "X_train_poly_cst['X95735_at^2'] = X_train_cst['X95735_at']**2\n",
    "\n",
    "X_test_poly_cst=X_test_cst.copy()\n",
    "X_test_poly_cst['M31523_at^2'] = X_test_poly_cst['M31523_at']**2\n",
    "X_test_poly_cst['X95735_at^2'] = X_test_poly_cst['X95735_at']**2\n",
    "\n",
    "#Multi_Log_RegCV_poly.fit(X_train_poly_cst, y_train)\n",
    "Multi_Log_RegCV_poly = polynomial_logreg_estimator.fit(X_train_poly_cst, y_train)\n",
    "\n",
    "Multi_Log_RegCV_poly_pred_train = Multi_Log_RegCV_poly.predict(X_train_poly_cst)\n",
    "Multi_Log_RegCV_poly_pred_test = Multi_Log_RegCV_poly.predict(X_test_poly_cst)\n",
    "\n",
    "print(\"Multiclass Logistic Regression CV with Polynomial features, degree = 2 using make_pipeline\")\n",
    "print(\"Accuracy for Training Data\\t: {}\".format(accuracy_score(y_train, Multi_Log_RegCV_poly_pred_train) * 100))\n",
    "print(\"Accuracy for Testing Data\\t: {}\".format(accuracy_score(y_test, Multi_Log_RegCV_poly_pred_test) * 100))"
   ]
  },
  {
   "cell_type": "markdown",
   "metadata": {},
   "source": [
    "**4.4 Plot the decision boundary and interpret results. Hint: You may utilize the function `overlay_decision_boundary`** \n"
   ]
  },
  {
   "cell_type": "code",
   "execution_count": 1011,
   "metadata": {},
   "outputs": [],
   "source": [
    "def overlay_decision_boundary(ax, model, colors=None, nx=200, ny=200, desaturate=.5, xlim=None, ylim=None):\n",
    "    \"\"\"\n",
    "    A function that visualizes the decision boundaries of a classifier.\n",
    "    \n",
    "    ax: Matplotlib Axes to plot on\n",
    "    model: Classifier to use.\n",
    "     - if `model` has a `.predict` method, like an sklearn classifier, we call `model.predict(X)`\n",
    "     - otherwise, we simply call `model(X)`\n",
    "    colors: list or dict of colors to use. Use color `colors[i]` for class i.\n",
    "     - If colors is not provided, uses the current color cycle\n",
    "    nx, ny: number of mesh points to evaluated the classifier on\n",
    "    desaturate: how much to desaturate each of the colors (for better contrast with the sample points)\n",
    "    xlim, ylim: range to plot on. (If the default, None, is passed, the limits will be taken from `ax`.)\n",
    "    \"\"\"\n",
    "    # Create mesh.\n",
    "    xmin, xmax = ax.get_xlim() if xlim is None else xlim\n",
    "    ymin, ymax = ax.get_ylim() if ylim is None else ylim\n",
    "    xx, yy = np.meshgrid(\n",
    "        np.linspace(xmin, xmax, nx),\n",
    "        np.linspace(ymin, ymax, ny))\n",
    "    X = np.c_[xx.flatten(), yy.flatten()]\n",
    "\n",
    "    # Predict on mesh of points.\n",
    "    model = getattr(model, 'predict', model)\n",
    "    y = model(X)\n",
    "    #print(\"Do I predict\" , y)\n",
    "\n",
    "    \n",
    "    \n",
    "#     y[np.where(y=='aml')]=3\n",
    "#     y[np.where(y=='allT')]=2\n",
    "#     y[np.where(y=='allB')]=1\n",
    "    \n",
    "    \n",
    "    \n",
    "    y = y.astype(int) # This may be necessary for 32-bit Python.\n",
    "    y = y.reshape((nx, ny))\n",
    "\n",
    "    # Generate colormap.\n",
    "    if colors is None:\n",
    "        # If colors not provided, use the current color cycle.\n",
    "        # Shift the indices so that the lowest class actually predicted gets the first color.\n",
    "        # ^ This is a bit magic, consider removing for next year.\n",
    "        colors = (['white'] * np.min(y)) + sns.utils.get_color_cycle()\n",
    "\n",
    "    if isinstance(colors, dict):\n",
    "        missing_colors = [idx for idx in np.unique(y) if idx not in colors]\n",
    "        #assert len(missing_colors) == 0, f\"Color not specified for predictions {missing_colors}\"\n",
    "\n",
    "        # Make a list of colors, filling in items from the dict.\n",
    "        color_list = ['white'] * (np.max(y) + 1)\n",
    "        for idx, val in colors.items():\n",
    "            color_list[idx] = val\n",
    "    else:\n",
    "        assert len(colors) >= np.max(y) + 1, \"Insufficient colors passed for all predictions.\"\n",
    "        color_list = colors\n",
    "    color_list = [sns.utils.desaturate(color, desaturate) for color in color_list]\n",
    "    cmap = matplotlib.colors.ListedColormap(color_list)\n",
    "\n",
    "    # Plot decision surface\n",
    "    ax.pcolormesh(xx, yy, y, zorder=-2, cmap=cmap, norm=matplotlib.colors.NoNorm(), vmin=0, vmax=y.max() + 1)\n",
    "    xx = xx.reshape(nx, ny)\n",
    "    yy = yy.reshape(nx, ny)\n",
    "    if len(np.unique(y)) > 1:\n",
    "        ax.contour(xx, yy, y, colors=\"black\", linewidths=1, zorder=-1)\n",
    "    else:\n",
    "        print(\"Warning: only one class predicted, so not plotting contour lines.\")"
   ]
  },
  {
   "cell_type": "code",
   "execution_count": 1012,
   "metadata": {},
   "outputs": [
    {
     "data": {
      "image/png": "[encoded data removed]",
      "text/plain": [
       "<Figure size 432x288 with 1 Axes>"
      ]
     },
     "metadata": {},
     "output_type": "display_data"
    }
   ],
   "source": [
    "# your code here\n",
    "Multi_Log_RegCV=LogisticRegressionCV().fit(x_train,y_train)\n",
    "\n",
    "ax=create_scatterplot(xy_train)\n",
    "ax.set_title(\"Logistic Linear Regression\")\n",
    "overlay_decision_boundary(ax, Multi_Log_RegCV)"
   ]
  },
  {
   "cell_type": "code",
   "execution_count": 1013,
   "metadata": {},
   "outputs": [
    {
     "data": {
      "image/png": "[encoded data removed]",
      "text/plain": [
       "<Figure size 432x288 with 1 Axes>"
      ]
     },
     "metadata": {},
     "output_type": "display_data"
    }
   ],
   "source": [
    "# your code here\n",
    "polynomial_logreg_estimator = make_pipeline(\n",
    "    PolynomialFeatures(degree=2, include_bias=False),\n",
    "    LogisticRegressionCV())\n",
    "\n",
    "Multi_Log_RegCV_poly = polynomial_logreg_estimator.fit(x_train, y_train)\n",
    "\n",
    "ax=create_scatterplot(xy_train)\n",
    "ax.set_title(\"Logistic Regression with Polynomial Features\")\n",
    "\n",
    "overlay_decision_boundary(ax, Multi_Log_RegCV_poly)"
   ]
  },
  {
   "cell_type": "markdown",
   "metadata": {},
   "source": [
    "**4.5 Report and plot the CV scores for the two models and interpret.**"
   ]
  },
  {
   "cell_type": "code",
   "execution_count": 1014,
   "metadata": {},
   "outputs": [
    {
     "name": "stdout",
     "output_type": "stream",
     "text": [
      "Cross Validation Score of Linear Logistic Regression: \n",
      " [0.80597015 0.82089552 0.86868687]\n",
      "\n",
      "Cross Validation Score of Polynomial Logistic Regression: \n",
      " [0.91542289 0.86567164 0.94444444]\n"
     ]
    }
   ],
   "source": [
    "print(\"Cross Validation Score of Linear Logistic Regression: \\n {}\"\n",
    "      .format(cross_val_score(Multi_Log_RegCV, X_train_cst, y_train)))\n",
    "print(\"\\nCross Validation Score of Polynomial Logistic Regression: \\n {}\"\n",
    "      .format(cross_val_score(Multi_Log_RegCV_poly, X_train_poly_cst, y_train)))"
   ]
  },
  {
   "cell_type": "code",
   "execution_count": 1015,
   "metadata": {},
   "outputs": [
    {
     "data": {
      "image/png": "[encoded data removed]",
      "text/plain": [
       "<Figure size 432x432 with 1 Axes>"
      ]
     },
     "metadata": {},
     "output_type": "display_data"
    }
   ],
   "source": [
    "# your code here\n",
    "x_2_range  = np.arange(x_2_min, x_2_max, 0.003)\n",
    "\n",
    "f,ax = plt.subplots(1,1, figsize=(6,6))\n",
    "ax.hist(cross_val_score(Multi_Log_RegCV, X_train, y_train), label= 'Logistic Linear Regression - CV Score')\n",
    "ax.hist(cross_val_score(Multi_Log_RegCV_poly, X_train_poly_cst, y_train), label= 'Logistic Polynomial Regression - CV Score')\n",
    "ax.set_title('Train Set')\n",
    "ax.legend();"
   ]
  },
  {
   "cell_type": "markdown",
   "metadata": {},
   "source": [
    "- Cross Validation scores of both models appear to be very similar. However, I failed to see the value in plotting the Cross Validation Scores"
   ]
  },
  {
   "cell_type": "markdown",
   "metadata": {},
   "source": [
    "<div class='exercise'><b> Question 5: [10 pts] Including an 'abstain' option </b></div>\n",
    "\n",
    "One of the reasons a hospital might be hesitant to use your cancer classification model is that a misdiagnosis by the model on a patient can sometimes prove to be very costly (e.g. if the patient were to file a law suit seeking a compensation for damages). One way to mitigate this concern is to allow the model to 'abstain' from making a prediction: whenever it is uncertain about the diagnosis for a patient. However, when the model abstains from making a prediction, the hospital will have to forward the patient to a specialist, which would incur additional cost.  How could one design a cancer classification model with an abstain option, such that the cost to the hospital is minimized?\n",
    "\n",
    "*Hint:* Think of ways to build on top of the logistic regression model and have it abstain on patients who are difficult to classify."
   ]
  },
  {
   "cell_type": "markdown",
   "metadata": {},
   "source": [
    "**5.1** More specifically, suppose the cost incurred by a hospital when a model mis-predicts on a patient is $\\$5000$ , and the cost incurred when the model abstains from making a prediction is \\$1000. What is the average cost per patient for the OvR logistic regression model (without quadratic or interaction terms) from **Question 4**.  Note that this needs to be evaluated on the patients in the test set. "
   ]
  },
  {
   "cell_type": "markdown",
   "metadata": {},
   "source": [
    "**5.2** Design a classification strategy (into the 3 groups plus the *abstain* group) that has as low cost as possible per patient (certainly lower cost per patient than the logistic regression model).   Give a justification for your approach."
   ]
  },
  {
   "cell_type": "markdown",
   "metadata": {},
   "source": [
    "<hr>\n",
    "### Solutions"
   ]
  },
  {
   "cell_type": "markdown",
   "metadata": {},
   "source": [
    "**5.1 More specifically, suppose the cost incurred by a hospital when a model mis-predicts on a patient is $\\$5000$ , and the cost incurred when the model abstains from making a prediction is \\$1000. What is the average cost per patient for the OvR logistic regression model (without quadratic or interaction terms) from Question 4.  Note that this needs to be evaluated on the patients in the test set.**\n",
    "**\n",
    "...\n",
    "**"
   ]
  },
  {
   "cell_type": "markdown",
   "metadata": {},
   "source": [
    "*your answer here* \n"
   ]
  },
  {
   "cell_type": "code",
   "execution_count": 1016,
   "metadata": {},
   "outputs": [],
   "source": [
    "from sklearn.metrics import confusion_matrix"
   ]
  },
  {
   "cell_type": "code",
   "execution_count": 1017,
   "metadata": {},
   "outputs": [
    {
     "data": {
      "text/html": [
       "<div>\n",
       "<style scoped>\n",
       "    .dataframe tbody tr th:only-of-type {\n",
       "        vertical-align: middle;\n",
       "    }\n",
       "\n",
       "    .dataframe tbody tr th {\n",
       "        vertical-align: top;\n",
       "    }\n",
       "\n",
       "    .dataframe thead th {\n",
       "        text-align: right;\n",
       "    }\n",
       "</style>\n",
       "<table border=\"1\" class=\"dataframe\">\n",
       "  <thead>\n",
       "    <tr style=\"text-align: right;\">\n",
       "      <th>Predicted Class</th>\n",
       "      <th>0.0</th>\n",
       "      <th>1.0</th>\n",
       "      <th>2.0</th>\n",
       "    </tr>\n",
       "    <tr>\n",
       "      <th>Actual Class</th>\n",
       "      <th></th>\n",
       "      <th></th>\n",
       "      <th></th>\n",
       "    </tr>\n",
       "  </thead>\n",
       "  <tbody>\n",
       "    <tr>\n",
       "      <th>0.0</th>\n",
       "      <td>41</td>\n",
       "      <td>9</td>\n",
       "      <td>0</td>\n",
       "    </tr>\n",
       "    <tr>\n",
       "      <th>1.0</th>\n",
       "      <td>10</td>\n",
       "      <td>40</td>\n",
       "      <td>0</td>\n",
       "    </tr>\n",
       "    <tr>\n",
       "      <th>2.0</th>\n",
       "      <td>0</td>\n",
       "      <td>2</td>\n",
       "      <td>48</td>\n",
       "    </tr>\n",
       "  </tbody>\n",
       "</table>\n",
       "</div>"
      ],
      "text/plain": [
       "Predicted Class  0.0  1.0  2.0\n",
       "Actual Class                  \n",
       "0.0               41    9    0\n",
       "1.0               10   40    0\n",
       "2.0                0    2   48"
      ]
     },
     "metadata": {},
     "output_type": "display_data"
    },
    {
     "name": "stdout",
     "output_type": "stream",
     "text": [
      "Using Test Data:\n",
      "Avg Cost per Patient using Accuracy Score\t: 700.0\n",
      "Avg Cost per Patient using Confusion Matrix\t: 700\n"
     ]
    }
   ],
   "source": [
    "# your code here \n",
    "Multi_Log_RegCV=LogisticRegressionCV(multi_class = \"ovr\").fit(X_train_cst,y_train)\n",
    "Multi_Log_RegCV_predproba_test = Multi_Log_RegCV.predict_proba(X_test_cst)[:,1]\n",
    "\n",
    "Multi_Log_RegCV_pred_train = Multi_Log_RegCV.predict(X_train_cst) \n",
    "Multi_Log_RegCV_pred_test = Multi_Log_RegCV.predict(X_test_cst)\n",
    "\n",
    "confusion_matrix = pd.crosstab(  y_test.values.flatten(), \n",
    "                                          Multi_Log_RegCV_pred_test.flatten(), \n",
    "                                          rownames=['Actual Class'], \n",
    "                                          colnames=['Predicted Class'])\n",
    "display(confusion_matrix)\n",
    "\n",
    "incorrectPred = len(y_test) - (confusion_matrix[0][0] + confusion_matrix[1][1] + confusion_matrix[2][2])\n",
    "\n",
    "print(\"Using Test Data:\")\n",
    "print(\"Avg Cost per Patient using Accuracy Score\\t: {}\".format((1-(accuracy_score(y_test, Multi_Log_RegCV_pred_test))) * 5000))\n",
    "print(\"Avg Cost per Patient using Confusion Matrix\\t: {}\".format(incorrectPred*5000/len(y_test)))"
   ]
  },
  {
   "cell_type": "markdown",
   "metadata": {},
   "source": [
    "**5.2 Design a classification strategy (into the 3 groups plus the *abstain* group) that has as low cost as possible per patient (certainly lower cost per patient than the logistic regression model).   Give a justification for your approach.**"
   ]
  },
  {
   "cell_type": "code",
   "execution_count": 1018,
   "metadata": {},
   "outputs": [],
   "source": [
    "cost_abstain = 1000\n",
    "cost_missPred = 5000\n",
    "def cost_basedOn_prob(y_prob, y_values, p):\n",
    "    y_thresh = []\n",
    "    for prob in y_prob:\n",
    "        if prob[0] >= p:\n",
    "            y_thresh.append(1) #CancerType=0\n",
    "        elif prob[1] >= p:\n",
    "            y_thresh.append(2) #CancerType=1\n",
    "        elif prob[2] >= p:\n",
    "            y_thresh.append(3) #CancerType=2\n",
    "        else:\n",
    "            y_thresh.append(0) #abstain\n",
    "    cost = 0\n",
    "    for y_t, y in zip(y_thresh, y_values):\n",
    "        if y_t == y: \n",
    "            cost += 0 \n",
    "        elif y_t == 0:\n",
    "            cost += cost_abstain\n",
    "        else: \n",
    "            cost += cost_missPred\n",
    "    return cost / len(y_values) "
   ]
  },
  {
   "cell_type": "code",
   "execution_count": 1019,
   "metadata": {},
   "outputs": [],
   "source": [
    "def probability_threshold(model, x, y_true):\n",
    "    min_avg_cost = np.infty\n",
    "    y_prob = model.predict_proba(x)\n",
    "    \n",
    "    best_prob = 0.5\n",
    "    p = 0.5\n",
    "    while p <= 1:\n",
    "        avg_cost = cost_basedOn_prob(y_prob, y_true, p)\n",
    "        if avg_cost < min_avg_cost:\n",
    "            min_avg_cost = avg_cost\n",
    "            best_prob = p\n",
    "        \n",
    "        p += 0.1 \n",
    "    return best_prob, min_avg_cost"
   ]
  },
  {
   "cell_type": "code",
   "execution_count": 1020,
   "metadata": {},
   "outputs": [
    {
     "name": "stdout",
     "output_type": "stream",
     "text": [
      "Min avg. Cost per Patient using Linear Log. Reg\t: 666\n"
     ]
    }
   ],
   "source": [
    "# your code here\n",
    "Multi_Log_RegCV_predproba_test = Multi_Log_RegCV.predict_proba(X_test_cst)\n",
    "best_probability, min_avg_cost = probability_threshold(Multi_Log_RegCV, X_test_cst, y_test)\n",
    "AvgCost_usingLinearLog_test = cost_basedOn_prob(Multi_Log_RegCV_predproba_test, y_test, best_probability)\n",
    "\n",
    "print(\"Min avg. Cost per Patient using Linear Log. Reg\\t: {}\".format(AvgCost_usingLinearLog_test))"
   ]
  },
  {
   "cell_type": "code",
   "execution_count": 1021,
   "metadata": {},
   "outputs": [
    {
     "name": "stdout",
     "output_type": "stream",
     "text": [
      "Min avg. Cost per Patient using Poly. Log. Reg\t: 666\n"
     ]
    }
   ],
   "source": [
    "Multi_Log_RegCV_poly=LogisticRegressionCV(multi_class = \"ovr\").fit(X_train_poly_cst,y_train)\n",
    "Multi_Log_RegCV_poly_predproba_test = Multi_Log_RegCV_poly.predict_proba(X_test_poly_cst)\n",
    "\n",
    "best_probability, min_avg_cost = probability_threshold(Multi_Log_RegCV_poly, X_test_poly_cst, y_test)\n",
    "AvgCost_usingPolyLog_test = cost_basedOn_prob(Multi_Log_RegCV_poly_predproba_test, y_test, best_probability)\n",
    "print(\"Min avg. Cost per Patient using Poly. Log. Reg\\t: {}\".format(AvgCost_usingPolyLog_test))"
   ]
  },
  {
   "cell_type": "code",
   "execution_count": 1022,
   "metadata": {},
   "outputs": [
    {
     "name": "stdout",
     "output_type": "stream",
     "text": [
      "Min avg. Cost per Patient using kNN\t\t: 666\n"
     ]
    }
   ],
   "source": [
    "kNN = KNeighborsClassifier(n_neighbors=144).fit(X_train_cst, y_train)\n",
    "kNN_predproba_test = kNN.predict_proba(X_test_cst)\n",
    "\n",
    "best_probability, min_avg_cost = probability_threshold(kNN, X_test_cst, y_test)\n",
    "AvgCost_usingkNN_test = cost_basedOn_prob(kNN_predproba_test, y_test, best_probability)\n",
    "print(\"Min avg. Cost per Patient using kNN\\t\\t: {}\".format(AvgCost_usingkNN_test))"
   ]
  },
  {
   "cell_type": "markdown",
   "metadata": {},
   "source": [
    "- In this method, we compared 3 models Linear Logistic Regression, Poly Logistic Regression and kNN model. Based on our calculations all three models returned the 666 as the minimum Avg cost per patient.\n",
    "\n",
    "- These models were created by predicting the best probability of each model as a cut off threshold. I do suspect these can result in overfitting the models. However, in theoratical stand point these appear to be the min cost per patients "
   ]
  },
  {
   "cell_type": "code",
   "execution_count": null,
   "metadata": {},
   "outputs": [],
   "source": []
  }
 ],
 "metadata": {
  "kernelspec": {
   "display_name": "Python 3",
   "language": "python",
   "name": "python3"
  },
  "language_info": {
   "codemirror_mode": {
    "name": "ipython",
    "version": 3
   },
   "file_extension": ".py",
   "mimetype": "text/x-python",
   "name": "python",
   "nbconvert_exporter": "python",
   "pygments_lexer": "ipython3",
   "version": "3.7.4"
  }
 },
 "nbformat": 4,
 "nbformat_minor": 2
}
